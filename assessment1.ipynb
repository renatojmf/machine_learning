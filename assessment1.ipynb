{
  "nbformat": 4,
  "nbformat_minor": 0,
  "metadata": {
    "colab": {
      "name": "assessment1.ipynb",
      "provenance": [],
      "collapsed_sections": []
    },
    "kernelspec": {
      "name": "python3",
      "display_name": "Python 3"
    },
    "language_info": {
      "name": "python"
    }
  },
  "cells": [
    {
      "cell_type": "markdown",
      "metadata": {
        "id": "IzO5Zko7ivDZ"
      },
      "source": [
        "# Instruções Gerais\n",
        "\n",
        "*   A atividade é **individual**. Cópias e plágios não serão tolerados\n",
        "*   Data de entrega: **23/07/2021, até as 23:59h**\n",
        "\n",
        "  * Apenas pelo **Classroom**\n",
        "  * Façam uma cópia do notebook, e trabalhem nela para a entrega até o prazo definido\n",
        "  * **Atentem para todos os pontos de `# TODO:`**, pois estes são os pontos de implemenntação\n",
        "* Sobre política de atrasos: \n",
        "  * cada aluno terá a **tolerância de 2 dias de atraso, considerado todos os exercícios** propostos. \n",
        "  * A partir do terceiro dia, 60% da nota obtida será computada. \n",
        "  * Do quarto dia em diante, não será atribuída nota alguma.\n",
        "\n"
      ]
    },
    {
      "cell_type": "markdown",
      "metadata": {
        "id": "w7nx5rTPTClR"
      },
      "source": [
        "# Imports iniciais"
      ]
    },
    {
      "cell_type": "code",
      "metadata": {
        "id": "_M9ho_SjKNat"
      },
      "source": [
        "%matplotlib inline\n",
        "import matplotlib.pyplot as plt\n",
        "import numpy as np\n",
        "from sklearn import metrics"
      ],
      "execution_count": 1,
      "outputs": []
    },
    {
      "cell_type": "markdown",
      "metadata": {
        "id": "bh-8EdhtENPh"
      },
      "source": [
        "# Definição de um model simples para testes usando sklearn"
      ]
    },
    {
      "cell_type": "code",
      "metadata": {
        "id": "B7zz6iS8EUOk"
      },
      "source": [
        "from sklearn.neighbors import KNeighborsClassifier\n",
        "model = KNeighborsClassifier(n_neighbors=3)"
      ],
      "execution_count": 2,
      "outputs": []
    },
    {
      "cell_type": "markdown",
      "metadata": {
        "id": "Bx64mbsTpc4d"
      },
      "source": [
        "# Carregando e Divisão de Dados"
      ]
    },
    {
      "cell_type": "code",
      "metadata": {
        "id": "HxCyVPOqj6kK"
      },
      "source": [
        "from sklearn.datasets import load_iris\n",
        "iris = load_iris()\n",
        "x = iris.data\n",
        "y = iris.target"
      ],
      "execution_count": 3,
      "outputs": []
    },
    {
      "cell_type": "markdown",
      "metadata": {
        "id": "Dn8yxkXCp5NY"
      },
      "source": [
        "## Validação cruzada"
      ]
    },
    {
      "cell_type": "markdown",
      "metadata": {
        "id": "qjOzdgFVDetm"
      },
      "source": [
        "### Holdout"
      ]
    },
    {
      "cell_type": "code",
      "metadata": {
        "id": "MI7YbfvEqQRI",
        "colab": {
          "base_uri": "https://localhost:8080/"
        },
        "outputId": "8852ea99-a588-41e6-8764-2448da0c30d9"
      },
      "source": [
        "# defina a separação dos dados (X, y) utilizando 70% para treino e 30% para teste\n",
        "from sklearn.model_selection import train_test_split\n",
        "from sklearn.metrics import accuracy_score\n",
        "\n",
        "X_train, X_test, y_train, y_test = train_test_split(x, y,test_size = 0.3,random_state=1) # passando test_size como 0.3 é possível utilizar 30% do conjunto para testes e 70% para treinamento\n",
        "\n",
        "\n",
        "# TODO: treine e avalie o modelo com os dados separados\n",
        "model.fit(X_train,y_train)\n",
        "\n",
        "results_training = model.predict(X_train)\n",
        "results_prediction = model.predict(X_test)\n",
        "\n",
        "print(\"Knn ACC TRAINING:\", accuracy_score(y_train, results_training))\n",
        "print(\"Knn ACC TEST:\",accuracy_score(y_test, results_prediction))"
      ],
      "execution_count": 4,
      "outputs": [
        {
          "output_type": "stream",
          "text": [
            "Knn ACC TRAINING: 0.9523809523809523\n",
            "Knn ACC TEST: 0.9777777777777777\n"
          ],
          "name": "stdout"
        }
      ]
    },
    {
      "cell_type": "markdown",
      "metadata": {
        "id": "RwiOyPzDp5n1"
      },
      "source": [
        "### K-Folds"
      ]
    },
    {
      "cell_type": "markdown",
      "metadata": {
        "id": "z7Jq61lyGzgr"
      },
      "source": [
        "É possível usar o módulo [`cross_val_score`](https://scikit-learn.org/stable/modules/generated/sklearn.model_selection.cross_val_score.html) do sklearn"
      ]
    },
    {
      "cell_type": "code",
      "metadata": {
        "id": "wpGgfQhmG0TI",
        "colab": {
          "base_uri": "https://localhost:8080/"
        },
        "outputId": "67a8bd66-4591-4329-f787-12ce894c8381"
      },
      "source": [
        "from sklearn.model_selection import cross_val_score\n",
        "folds = 3\n",
        "# TODO: defina aqui a chamada\n",
        "print(\"cv_score:\")\n",
        "print(cross_val_score(model, x, y, cv=folds))"
      ],
      "execution_count": 5,
      "outputs": [
        {
          "output_type": "stream",
          "text": [
            "cv_score:\n",
            "[0.98 0.96 0.98]\n"
          ],
          "name": "stdout"
        }
      ]
    },
    {
      "cell_type": "markdown",
      "metadata": {
        "id": "9jWTwfKqHZ1w"
      },
      "source": [
        "Ou até expandir para executar o K vezes, seguindo um processo manual"
      ]
    },
    {
      "cell_type": "code",
      "metadata": {
        "id": "Yj8uCsJiqQ0D",
        "colab": {
          "base_uri": "https://localhost:8080/"
        },
        "outputId": "0bfdaf26-9680-4b3d-a514-020d04f15bf3"
      },
      "source": [
        "from sklearn.model_selection import KFold\n",
        "x_times = 3\n",
        "k_folds = 3\n",
        "accs = []\n",
        "\n",
        "for k in range(x_times):\n",
        "    splits = KFold(n_splits=k_folds, shuffle=True)\n",
        "    # a chamada .split() retorna os índices que devem ser usados em cada rodada\n",
        "    for train, test in splits.split(x):\n",
        "      X_train, X_test = x[train],x[test]\n",
        "      y_train, y_test = y[train],y[test]\n",
        "      # TODO: Treino e avaliação\n",
        "\n",
        "      model.fit(X_train,y_train)\n",
        "      results = model.predict(X_test)\n",
        "      accs.append(accuracy_score(y_test, results))\n",
        "      print(\"Knn ACC TEST:\",accuracy_score(y_test, results))\n",
        "\n",
        "average = sum(accs)/len(accs)\n",
        "print(\"Acurácia média: %.2f\"  % (average))"
      ],
      "execution_count": 6,
      "outputs": [
        {
          "output_type": "stream",
          "text": [
            "Knn ACC TEST: 0.96\n",
            "Knn ACC TEST: 0.98\n",
            "Knn ACC TEST: 0.94\n",
            "Knn ACC TEST: 0.96\n",
            "Knn ACC TEST: 0.98\n",
            "Knn ACC TEST: 0.96\n",
            "Knn ACC TEST: 1.0\n",
            "Knn ACC TEST: 0.98\n",
            "Knn ACC TEST: 0.92\n",
            "Acurácia média: 0.96\n"
          ],
          "name": "stdout"
        }
      ]
    },
    {
      "cell_type": "markdown",
      "metadata": {
        "id": "ChuSPXSFldTm"
      },
      "source": [
        "# Regressão Linear"
      ]
    },
    {
      "cell_type": "markdown",
      "metadata": {
        "id": "NRdGzAA2KDzN"
      },
      "source": [
        "Geração aleatória de um conjunto de dados simples"
      ]
    },
    {
      "cell_type": "code",
      "metadata": {
        "colab": {
          "base_uri": "https://localhost:8080/",
          "height": 265
        },
        "id": "C867WoGeJGsx",
        "outputId": "247b5493-d6ee-4069-b429-45ec68656517"
      },
      "source": [
        "rng = np.random.RandomState(1)\n",
        "x_regression = 10 * rng.rand(50)\n",
        "y_regression = 2 * x_regression - 5 + rng.randn(50)\n",
        "plt.scatter(y_regression, y_regression);"
      ],
      "execution_count": 7,
      "outputs": [
        {
          "output_type": "display_data",
          "data": {
            "image/png": "[encoded data removed]",
            "text/plain": [
              "<Figure size 432x288 with 1 Axes>"
            ]
          },
          "metadata": {
            "tags": [],
            "needs_background": "light"
          }
        }
      ]
    },
    {
      "cell_type": "markdown",
      "metadata": {
        "id": "E1pcBEE9K1wv"
      },
      "source": [
        "Importação e utilização do módulo [`LinearRegression`](https://scikit-learn.org/stable/modules/generated/sklearn.linear_model.LinearRegression.html)  para fazer um ajuste linear as dados gerados"
      ]
    },
    {
      "cell_type": "code",
      "metadata": {
        "id": "ZxQ4CzrdLO_d",
        "colab": {
          "base_uri": "https://localhost:8080/",
          "height": 265
        },
        "outputId": "f7a1b971-bcf0-47ff-9f3b-48dd9e1fab9c"
      },
      "source": [
        "from sklearn.linear_model import LinearRegression\n",
        "model = LinearRegression(fit_intercept=True)\n",
        "model.fit(x_regression[:, np.newaxis], y_regression)\n",
        "\n",
        "x_fit = np.linspace(0, 10, 1000)\n",
        "y_fit = model.predict(x_fit[:, np.newaxis])\n",
        "\n",
        "plt.scatter(x_regression, y_regression)\n",
        "plt.plot(x_fit, y_fit);"
      ],
      "execution_count": 8,
      "outputs": [
        {
          "output_type": "display_data",
          "data": {
            "image/png": "[encoded data removed]",
            "text/plain": [
              "<Figure size 432x288 with 1 Axes>"
            ]
          },
          "metadata": {
            "tags": [],
            "needs_background": "light"
          }
        }
      ]
    },
    {
      "cell_type": "markdown",
      "metadata": {
        "id": "SVRhp-8bpp16"
      },
      "source": [
        "Agora, considere a implementação da Regressão Linear do zero, sem o uso do `sklearn` ou outra biblioteca de Machine Learninng."
      ]
    },
    {
      "cell_type": "code",
      "metadata": {
        "id": "AmAMXsCZpqNf",
        "colab": {
          "base_uri": "https://localhost:8080/"
        },
        "outputId": "a75fcbd2-04fd-4bc4-8d39-f71b6e160bff"
      },
      "source": [
        "# TODO:\n",
        "\n",
        "mean_x = np.mean(x_regression)\n",
        "mean_y = np.mean(y_regression)\n",
        "\n",
        "m = len(x_regression)\n",
        "\n",
        "# calculo de m & c\n",
        "# m = numerador / denominador, onde \n",
        "# numerador = Somatorio de todas as amostras x - a media das amostras x multiplicado pela subtração de cada amostra y pela sua média\n",
        "# denominador = somatorio de todas as x - a sua media, valor esse elevado ao quadrado\n",
        "# c = media(y) - m*(media(x))\n",
        "numer = 0\n",
        "denom = 0\n",
        "for i in range(m):\n",
        "  numer += (x_regression[i] - mean_x) * (y_regression[i] - mean_y)\n",
        "  denom += (x_regression[i] - mean_x) ** 2\n",
        "m = numer / denom\n",
        "c = mean_y - (m * mean_x)\n",
        "\n",
        "print (f'm = {m} \\nc = {c}')"
      ],
      "execution_count": 9,
      "outputs": [
        {
          "output_type": "stream",
          "text": [
            "m = 2.0272088103606953 \n",
            "c = -4.998577085553204\n"
          ],
          "name": "stdout"
        }
      ]
    },
    {
      "cell_type": "code",
      "metadata": {
        "id": "avuSuswcSfG9",
        "colab": {
          "base_uri": "https://localhost:8080/"
        },
        "outputId": "8bd2fd40-2576-4ae1-a347-5b416465b408"
      },
      "source": [
        "# Cálculo R-quadraditico para avaliação do modelo \n",
        "\n",
        "ss_t = 0\n",
        "ss_r = 0 \n",
        "\n",
        "# laço para ajuste da linha\n",
        "for i in range(len(x_regression)): \n",
        "  y_pred = c + m * x_regression[i]\n",
        "  ss_t += (y_regression[i] - mean_y) ** 2\n",
        "  ss_r += (y_regression[i] - y_pred) ** 2\n",
        "r2 = 1 - (ss_r/ss_t)\n",
        "\n",
        "print(r2)"
      ],
      "execution_count": 10,
      "outputs": [
        {
          "output_type": "stream",
          "text": [
            "0.9790800609430612\n"
          ],
          "name": "stdout"
        }
      ]
    },
    {
      "cell_type": "code",
      "metadata": {
        "id": "tMCsvsPSS3VS",
        "colab": {
          "base_uri": "https://localhost:8080/",
          "height": 265
        },
        "outputId": "5c89587c-a5d2-4b00-fba8-c95e35ca3024"
      },
      "source": [
        "# plotting values and regression line\n",
        "max_x = np.max(x_regression) + 1\n",
        "min_x = np.min(y_regression) + 1\n",
        "\n",
        "# calculating line values x and y\n",
        "x = np.linspace (0,10,1000)\n",
        "y = c + m * x\n",
        "\n",
        "plt.plot(x, y, color='red', label='Regression Line')\n",
        "plt.scatter(x_regression, y_regression, c='cyan', label='data points')\n",
        "\n",
        "plt.legend()\n",
        "plt.show()"
      ],
      "execution_count": 23,
      "outputs": [
        {
          "output_type": "display_data",
          "data": {
            "image/png": "[encoded data removed]",
            "text/plain": [
              "<Figure size 432x288 with 1 Axes>"
            ]
          },
          "metadata": {
            "tags": [],
            "needs_background": "light"
          }
        }
      ]
    },
    {
      "cell_type": "markdown",
      "metadata": {
        "id": "BsAbmEhLm2Ua"
      },
      "source": [
        "# Máquinas de Vetores de Suporte"
      ]
    },
    {
      "cell_type": "markdown",
      "metadata": {
        "id": "pP8X5GGfNTrB"
      },
      "source": [
        "Geração de dados iniciais"
      ]
    },
    {
      "cell_type": "code",
      "metadata": {
        "colab": {
          "base_uri": "https://localhost:8080/",
          "height": 336
        },
        "id": "PS4k0qBcNTMS",
        "outputId": "131a677e-e628-417e-8665-cc166e90c440"
      },
      "source": [
        "from sklearn.datasets.samples_generator import make_blobs\n",
        "X, y = make_blobs(n_samples=50, centers=2, random_state=0, cluster_std=0.60)\n",
        "plt.scatter(X[:, 0], X[:, 1], c=y, s=50, cmap='autumn')"
      ],
      "execution_count": 12,
      "outputs": [
        {
          "output_type": "stream",
          "text": [
            "/usr/local/lib/python3.7/dist-packages/sklearn/utils/deprecation.py:144: FutureWarning: The sklearn.datasets.samples_generator module is  deprecated in version 0.22 and will be removed in version 0.24. The corresponding classes / functions should instead be imported from sklearn.datasets. Anything that cannot be imported from sklearn.datasets is now part of the private API.\n",
            "  warnings.warn(message, FutureWarning)\n"
          ],
          "name": "stderr"
        },
        {
          "output_type": "execute_result",
          "data": {
            "text/plain": [
              "<matplotlib.collections.PathCollection at 0x7fda0e63bc50>"
            ]
          },
          "metadata": {
            "tags": []
          },
          "execution_count": 12
        },
        {
          "output_type": "display_data",
          "data": {
            "image/png": "[encoded data removed]",
            "text/plain": [
              "<Figure size 432x288 with 1 Axes>"
            ]
          },
          "metadata": {
            "tags": [],
            "needs_background": "light"
          }
        }
      ]
    },
    {
      "cell_type": "markdown",
      "metadata": {
        "id": "WQ7dwOd1NAk1"
      },
      "source": [
        "Para definir o modelo, podemos usar módule [`SVC (Support Vector Classifier)`](https://scikit-learn.org/stable/modules/generated/sklearn.svm.SVC.html) do [`sklearn.svm`](https://scikit-learn.org/stable/modules/svm.html#:~:text=Support%20vector%20machines%20(SVMs)%20are,than%20the%20number%20of%20samples.)"
      ]
    },
    {
      "cell_type": "code",
      "metadata": {
        "id": "fPm0JO6mL10m"
      },
      "source": [
        "from sklearn.svm import SVC"
      ],
      "execution_count": 13,
      "outputs": []
    },
    {
      "cell_type": "markdown",
      "metadata": {
        "id": "1q4XUyKKNsAm"
      },
      "source": [
        "Com teste inicial, podemos treinar e avaliar um modelo com um kernel linear"
      ]
    },
    {
      "cell_type": "code",
      "metadata": {
        "id": "aqC5OJSaOMAt",
        "colab": {
          "base_uri": "https://localhost:8080/"
        },
        "outputId": "aee4f9b1-46ab-429b-8893-9be9f641d54d"
      },
      "source": [
        "# TODO: separação dos dados X, y\n",
        "X_train, X_test, y_train, y_test = train_test_split(X, y,random_state=1)\n",
        "\n",
        "model = SVC(kernel='linear')\n",
        "model.fit(X_train, y_train)\n",
        "\n",
        "results_training = model.predict(X_train)\n",
        "results_test = model.predict(X_test)\n",
        "\n",
        "print(\"SVC ACC TRAINING:\",accuracy_score(y_train, results_training))\n",
        "print(\"SVC ACC TEST:\",accuracy_score(y_test, results_test))"
      ],
      "execution_count": 14,
      "outputs": [
        {
          "output_type": "stream",
          "text": [
            "SVC ACC TRAINING: 1.0\n",
            "SVC ACC TEST: 1.0\n"
          ],
          "name": "stdout"
        }
      ]
    },
    {
      "cell_type": "markdown",
      "metadata": {
        "id": "jxYeHbdVPIMV"
      },
      "source": [
        "E para problemas não lineares?"
      ]
    },
    {
      "cell_type": "markdown",
      "metadata": {
        "id": "3XCfoBIqQM5t"
      },
      "source": [
        "Geração de dados"
      ]
    },
    {
      "cell_type": "code",
      "metadata": {
        "colab": {
          "base_uri": "https://localhost:8080/",
          "height": 282
        },
        "id": "DV2xP4-CPIir",
        "outputId": "0edf5d0b-3984-4474-baf2-f1a0df4f5d22"
      },
      "source": [
        "from sklearn.datasets.samples_generator import make_circles\n",
        "X, y = make_circles(100, factor=.1, noise=.1)\n",
        "\n",
        "plt.scatter(X[:, 0], X[:, 1], c=y, s=50, cmap='autumn')"
      ],
      "execution_count": 15,
      "outputs": [
        {
          "output_type": "execute_result",
          "data": {
            "text/plain": [
              "<matplotlib.collections.PathCollection at 0x7fda0eb41450>"
            ]
          },
          "metadata": {
            "tags": []
          },
          "execution_count": 15
        },
        {
          "output_type": "display_data",
          "data": {
            "image/png": "[encoded data removed]",
            "text/plain": [
              "<Figure size 432x288 with 1 Axes>"
            ]
          },
          "metadata": {
            "tags": [],
            "needs_background": "light"
          }
        }
      ]
    },
    {
      "cell_type": "markdown",
      "metadata": {
        "id": "A9buYKzGQgP6"
      },
      "source": [
        "A partir da visualização anterior dos dados, encontre a melhor configuração para um modelo `SVM` (lembrem-se do `truque do kernel` -- variem este parâmetro [`rbf`, `poly`, `sigmoid`, etc]). Para isso, façam testes paramétricos e avaliem o resultado obtido.\n",
        "\n",
        "Dica: é possível plotar os vetores de suporte para entender o comportamento após treinamento. Vejam o `model.support_vectors`"
      ]
    },
    {
      "cell_type": "code",
      "metadata": {
        "id": "V4hxIWqIQgw3",
        "colab": {
          "base_uri": "https://localhost:8080/",
          "height": 363
        },
        "outputId": "0f2d881c-8a37-412c-817a-40dde4aee76b"
      },
      "source": [
        "# TODO: \n",
        "from sklearn import svm\n",
        "X_train, X_test, y_train, y_test = train_test_split(X, y,test_size = 0.3,random_state=1)\n",
        "\n",
        "model = SVC(kernel='rbf')\n",
        "model.fit(X_train, y_train)\n",
        "\n",
        "results_training = model.predict(X_train)\n",
        "results_test = model.predict(X_test)\n",
        "\n",
        "support_vector_indices = model.support_\n",
        "print(support_vector_indices)\n",
        "\n",
        "support_vectors_per_class = model.n_support_\n",
        "print(support_vectors_per_class)\n",
        "\n",
        "# Get support vectors themselves\n",
        "support_vectors = model.support_vectors_\n",
        "\n",
        "# Visualize support vectors\n",
        "plt.scatter(X_train[:,0], X_train[:,1])\n",
        "plt.scatter(support_vectors[:,0], support_vectors[:,1], color='red')\n",
        "plt.title('support vectors')\n",
        "plt.xlabel('X')\n",
        "plt.ylabel('y')\n",
        "plt.show()\n",
        "\n",
        "print(\"SVC rbf ACC TRAINING :\",accuracy_score(y_train, results_training))\n",
        "print(\"SVC rbf ACC TEST:\",accuracy_score(y_test, results_test))\n",
        "\n"
      ],
      "execution_count": 16,
      "outputs": [
        {
          "output_type": "stream",
          "text": [
            "[ 4  7 13 21 36 39 52 68 15 20 29 57 63]\n",
            "[8 5]\n"
          ],
          "name": "stdout"
        },
        {
          "output_type": "display_data",
          "data": {
            "image/png": "[encoded data removed]",
            "text/plain": [
              "<Figure size 432x288 with 1 Axes>"
            ]
          },
          "metadata": {
            "tags": [],
            "needs_background": "light"
          }
        },
        {
          "output_type": "stream",
          "text": [
            "SVC rbf ACC TRAINING : 1.0\n",
            "SVC rbf ACC TEST: 1.0\n"
          ],
          "name": "stdout"
        }
      ]
    },
    {
      "cell_type": "code",
      "metadata": {
        "colab": {
          "base_uri": "https://localhost:8080/",
          "height": 397
        },
        "id": "CkbUPPb2qZIF",
        "outputId": "381fc7a8-6382-4350-ea43-ad3668b5df90"
      },
      "source": [
        "model = SVC(kernel='poly')\n",
        "model.fit(X_train, y_train)\n",
        "\n",
        "results_training = model.predict(X_train)\n",
        "results_test = model.predict(X_test)\n",
        "\n",
        "support_vector_indices = model.support_\n",
        "print(support_vector_indices)\n",
        "\n",
        "support_vectors_per_class = model.n_support_\n",
        "print(support_vectors_per_class)\n",
        "\n",
        "# Get support vectors themselves\n",
        "support_vectors = model.support_vectors_\n",
        "\n",
        "# Visualize support vectors\n",
        "plt.scatter(X_train[:,0], X_train[:,1])\n",
        "plt.scatter(support_vectors[:,0], support_vectors[:,1], color='red')\n",
        "plt.title('support vectors')\n",
        "plt.xlabel('X')\n",
        "plt.ylabel('y')\n",
        "plt.show()\n",
        "\n",
        "print(\"SVC poly ACC TRAINING:\",accuracy_score(y_train, results_training))\n",
        "print(\"SVC poly ACC TEST:\",accuracy_score(y_test, results_test))"
      ],
      "execution_count": 17,
      "outputs": [
        {
          "output_type": "stream",
          "text": [
            "[ 4  5  6  7 13 16 19 21 22 25 26 28 32 34 35 36 38 39 43 44 51 52 54 55\n",
            " 56 64 65 66 67 68 69  0  1  3  8  9 11 12 15 17 18 20 23 24 27 30 31 33\n",
            " 37 40 41 45 46 48 49 53 58 60 61 62 63]\n",
            "[31 30]\n"
          ],
          "name": "stdout"
        },
        {
          "output_type": "display_data",
          "data": {
            "image/png": "[encoded data removed]",
            "text/plain": [
              "<Figure size 432x288 with 1 Axes>"
            ]
          },
          "metadata": {
            "tags": [],
            "needs_background": "light"
          }
        },
        {
          "output_type": "stream",
          "text": [
            "SVC poly ACC TRAINING: 0.6857142857142857\n",
            "SVC poly ACC TEST: 0.6333333333333333\n"
          ],
          "name": "stdout"
        }
      ]
    },
    {
      "cell_type": "code",
      "metadata": {
        "colab": {
          "base_uri": "https://localhost:8080/",
          "height": 397
        },
        "id": "xw9KCY2CqhpP",
        "outputId": "5257507c-aee9-462f-978b-dd19f523362b"
      },
      "source": [
        "model = SVC(kernel='sigmoid')\n",
        "model.fit(X_train, y_train)\n",
        "\n",
        "support_vector_indices = model.support_\n",
        "print(support_vector_indices)\n",
        "\n",
        "support_vectors_per_class = model.n_support_\n",
        "print(support_vectors_per_class)\n",
        "\n",
        "# Get support vectors themselves\n",
        "support_vectors = model.support_vectors_\n",
        "\n",
        "# Visualize support vectors\n",
        "plt.scatter(X_train[:,0], X_train[:,1])\n",
        "plt.scatter(support_vectors[:,0], support_vectors[:,1], color='red')\n",
        "plt.title('support vectors')\n",
        "plt.xlabel('X')\n",
        "plt.ylabel('y')\n",
        "plt.show()\n",
        "\n",
        "results_training = model.predict(X_train)\n",
        "results_test = model.predict(X_test)\n",
        "\n",
        "print(\"SVC sigmoid ACC TRAINING:\",accuracy_score(y_train, results_training))\n",
        "print(\"SVC sigmoid ACC TEST:\",accuracy_score(y_test, results_test))"
      ],
      "execution_count": 18,
      "outputs": [
        {
          "output_type": "stream",
          "text": [
            "[ 4  5  6  7 10 13 16 19 21 22 25 26 28 32 34 35 36 38 39 43 44 50 51 52\n",
            " 54 55 56 64 65 66 67 68 69  0  1  2  3  8  9 11 12 14 15 17 18 20 23 24\n",
            " 27 29 33 37 40 41 45 46 47 48 49 53 58 59 60 61 62 63]\n",
            "[33 33]\n"
          ],
          "name": "stdout"
        },
        {
          "output_type": "display_data",
          "data": {
            "image/png": "[encoded data removed]",
            "text/plain": [
              "<Figure size 432x288 with 1 Axes>"
            ]
          },
          "metadata": {
            "tags": [],
            "needs_background": "light"
          }
        },
        {
          "output_type": "stream",
          "text": [
            "SVC sigmoid ACC TRAINING: 0.6571428571428571\n",
            "SVC sigmoid ACC TEST: 0.6\n"
          ],
          "name": "stdout"
        }
      ]
    },
    {
      "cell_type": "markdown",
      "metadata": {
        "id": "FZKT9RpaQSHF"
      },
      "source": [
        "# Árvores de decisão: classificação de dígitos"
      ]
    },
    {
      "cell_type": "markdown",
      "metadata": {
        "id": "A9F-Np1TSBkQ"
      },
      "source": [
        "Carregamento dos dados"
      ]
    },
    {
      "cell_type": "code",
      "metadata": {
        "id": "0EzUpTMCSAfg"
      },
      "source": [
        "from sklearn.datasets import load_digits\n",
        "digits = load_digits()\n",
        "X = digits.data\n",
        "y = digits.target"
      ],
      "execution_count": 19,
      "outputs": []
    },
    {
      "cell_type": "code",
      "metadata": {
        "id": "tAE0O_XWSQa-",
        "colab": {
          "base_uri": "https://localhost:8080/"
        },
        "outputId": "d498a83a-67ad-4c5a-d8d6-f0ab28de3569"
      },
      "source": [
        "# TODO: façam a separação dos dados utilizando um coonjunto holdout 70/30\n",
        "X_train, X_test, y_train, y_test = train_test_split(X, y,test_size = 0.3,random_state=1)\n",
        "\n",
        "\n",
        "\n",
        "# TODO: treinem o modelo\n",
        "from sklearn.tree import DecisionTreeClassifier\n",
        "\n",
        "dtc = DecisionTreeClassifier(random_state=0)\n",
        "dtc.fit(X_train,y_train)\n",
        "\n",
        "# TODO: avaliem o resultado\n",
        "dtc.predict(X_test)\n",
        "\n",
        "results_training = dtc.predict(X_train)\n",
        "results_test = dtc.predict(X_test)\n",
        "\n",
        "print(\"DTC ACC TRAINING:\",accuracy_score(y_train, results_training))\n",
        "print(\"DTC ACC TEST:\",accuracy_score(y_test, results_test))\n",
        "\n",
        "scores = cross_val_score(model, X, y, cv=5)\n",
        "average=sum(scores)/len(scores)\n",
        "print(\"cv_score:\")\n",
        "print(\"Acurácia média: %.2f\"  % (average))"
      ],
      "execution_count": 20,
      "outputs": [
        {
          "output_type": "stream",
          "text": [
            "DTC ACC TRAINING: 1.0\n",
            "DTC ACC TEST: 0.8592592592592593\n",
            "cv_score:\n",
            "Acurácia média: 0.88\n"
          ],
          "name": "stdout"
        }
      ]
    },
    {
      "cell_type": "markdown",
      "metadata": {
        "id": "TYvuKtX3h9hE"
      },
      "source": [
        "# Ensemble"
      ]
    },
    {
      "cell_type": "markdown",
      "metadata": {
        "id": "fpt0dxQRiAa3"
      },
      "source": [
        "Escolha pelo menos 2 modelos discutidos para fazer um ensemble utilizando o mesmo conjunto de dados do exemplo anterior"
      ]
    },
    {
      "cell_type": "markdown",
      "metadata": {
        "id": "_Bm6JNJu4SbN"
      },
      "source": [
        "Foi criado 2 testes ensembles usando o voto de maioria disponibilizado pela biblioteca do scikit.\n",
        "\n",
        "O primeiro é o voto de maioria entre Decision Tree, KNN e SVC\n",
        "\n",
        "\n",
        "O segundo é o voto de maioria entre Regressão, GaussianNB e Random Forest"
      ]
    },
    {
      "cell_type": "code",
      "metadata": {
        "id": "S2Yqgcu_iA7p",
        "colab": {
          "base_uri": "https://localhost:8080/"
        },
        "outputId": "0d59319f-0286-4805-a513-b790a1b58d70"
      },
      "source": [
        "# TODO:\n",
        "from sklearn import svm\n",
        "from sklearn.ensemble import VotingClassifier\n",
        "\n",
        "clf1 = DecisionTreeClassifier(random_state=0)\n",
        "clf2 = KNeighborsClassifier(n_neighbors=7)\n",
        "clf3 = SVC(kernel='rbf')\n",
        "\n",
        "eclf = VotingClassifier(estimators=[('dt', clf1), ('knn', clf2), ('svc', clf3)], voting='hard')\n",
        "\n",
        "for clf, label in zip([clf1, clf2, clf3, eclf], ['Decision Tree', 'KNN', 'SVC', 'Ensemble']):\n",
        "  scores = cross_val_score(clf, X, y, scoring='accuracy', cv=5)\n",
        "  print(\"Accuracy: %0.2f (+/- %0.2f) [%s]\" % (scores.mean(), scores.std(), label))"
      ],
      "execution_count": 21,
      "outputs": [
        {
          "output_type": "stream",
          "text": [
            "Accuracy: 0.79 (+/- 0.04) [Decision Tree]\n",
            "Accuracy: 0.96 (+/- 0.02) [KNN]\n",
            "Accuracy: 0.96 (+/- 0.02) [SVC]\n",
            "Accuracy: 0.96 (+/- 0.02) [Ensemble]\n"
          ],
          "name": "stdout"
        }
      ]
    },
    {
      "cell_type": "markdown",
      "metadata": {
        "id": "lz3AdMZs4nID"
      },
      "source": [
        "Como é possível perceber acima, o voto de maioria foi tão bom quanto o resultado apurado pelo KNN se utilizando de 5-fold validation"
      ]
    },
    {
      "cell_type": "code",
      "metadata": {
        "colab": {
          "base_uri": "https://localhost:8080/"
        },
        "id": "ZU7-e7ql3GFQ",
        "outputId": "0e125680-3175-494a-8fcd-fa46c9cbf88c"
      },
      "source": [
        "from sklearn.linear_model import LogisticRegression\n",
        "from sklearn.naive_bayes import GaussianNB\n",
        "from sklearn.ensemble import RandomForestClassifier\n",
        "from sklearn.ensemble import VotingClassifier\n",
        "import warnings\n",
        "warnings.filterwarnings('ignore')\n",
        "\n",
        "clf1 = LogisticRegression(random_state=1)\n",
        "clf2 = RandomForestClassifier(n_estimators=50, random_state=1)\n",
        "clf3 = GaussianNB()\n",
        "\n",
        "eclf = VotingClassifier(estimators=[('lr', clf1), ('rf', clf2), ('gnb', clf3)], voting='hard')\n",
        "\n",
        "for clf, label in zip([clf1, clf2, clf3, eclf], ['Logistic Regression', 'Random Forest', 'naive Bayes', 'Ensemble']):\n",
        "  scores = cross_val_score(clf, X, y, scoring='accuracy', cv=5)\n",
        "  print(\"Accuracy: %0.2f (+/- %0.2f) [%s]\" % (scores.mean(), scores.std(), label))"
      ],
      "execution_count": 22,
      "outputs": [
        {
          "output_type": "stream",
          "text": [
            "Accuracy: 0.91 (+/- 0.03) [Logistic Regression]\n",
            "Accuracy: 0.93 (+/- 0.02) [Random Forest]\n",
            "Accuracy: 0.81 (+/- 0.03) [naive Bayes]\n",
            "Accuracy: 0.92 (+/- 0.03) [Ensemble]\n"
          ],
          "name": "stdout"
        }
      ]
    },
    {
      "cell_type": "markdown",
      "metadata": {
        "id": "2Zmycyr54lzI"
      },
      "source": [
        "Como é possível perceber acima, o voto de maioria foi inferior ao Random Forest para avaliação do modelo."
      ]
    }
  ]
}