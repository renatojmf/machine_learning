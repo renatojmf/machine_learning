{
  "nbformat": 4,
  "nbformat_minor": 0,
  "metadata": {
    "colab": {
      "name": "assessment1.ipynb",
      "provenance": [],
      "collapsed_sections": []
    },
    "kernelspec": {
      "name": "python3",
      "display_name": "Python 3"
    },
    "language_info": {
      "name": "python"
    }
  },
  "cells": [
    {
      "cell_type": "markdown",
      "metadata": {
        "id": "IzO5Zko7ivDZ"
      },
      "source": [
        "# Instruções Gerais\n",
        "\n",
        "*   A atividade é **individual**. Cópias e plágios não serão tolerados\n",
        "*   Data de entrega: **23/07/2021, até as 23:59h**\n",
        "\n",
        "  * Apenas pelo **Classroom**\n",
        "  * Façam uma cópia do notebook, e trabalhem nela para a entrega até o prazo definido\n",
        "  * **Atentem para todos os pontos de `# TODO:`**, pois estes são os pontos de implemenntação\n",
        "* Sobre política de atrasos: \n",
        "  * cada aluno terá a **tolerância de 2 dias de atraso, considerado todos os exercícios** propostos. \n",
        "  * A partir do terceiro dia, 60% da nota obtida será computada. \n",
        "  * Do quarto dia em diante, não será atribuída nota alguma.\n",
        "\n"
      ]
    },
    {
      "cell_type": "markdown",
      "metadata": {
        "id": "w7nx5rTPTClR"
      },
      "source": [
        "# Imports iniciais"
      ]
    },
    {
      "cell_type": "code",
      "metadata": {
        "id": "_M9ho_SjKNat"
      },
      "source": [
        "%matplotlib inline\n",
        "import matplotlib.pyplot as plt\n",
        "import numpy as np\n",
        "from sklearn import metrics"
      ],
      "execution_count": 14,
      "outputs": []
    },
    {
      "cell_type": "markdown",
      "metadata": {
        "id": "bh-8EdhtENPh"
      },
      "source": [
        "# Definição de um model simples para testes usando sklearn"
      ]
    },
    {
      "cell_type": "code",
      "metadata": {
        "id": "B7zz6iS8EUOk"
      },
      "source": [
        "from sklearn.neighbors import KNeighborsClassifier\n",
        "model = KNeighborsClassifier(n_neighbors=3)"
      ],
      "execution_count": 62,
      "outputs": []
    },
    {
      "cell_type": "markdown",
      "metadata": {
        "id": "Bx64mbsTpc4d"
      },
      "source": [
        "# Carregando e Divisão de Dados"
      ]
    },
    {
      "cell_type": "code",
      "metadata": {
        "id": "HxCyVPOqj6kK"
      },
      "source": [
        "from sklearn.datasets import load_iris\n",
        "iris = load_iris()\n",
        "x = iris.data\n",
        "y = iris.target"
      ],
      "execution_count": 91,
      "outputs": []
    },
    {
      "cell_type": "markdown",
      "metadata": {
        "id": "Dn8yxkXCp5NY"
      },
      "source": [
        "## Validação cruzada"
      ]
    },
    {
      "cell_type": "markdown",
      "metadata": {
        "id": "qjOzdgFVDetm"
      },
      "source": [
        "### Holdout"
      ]
    },
    {
      "cell_type": "code",
      "metadata": {
        "id": "MI7YbfvEqQRI",
        "colab": {
          "base_uri": "https://localhost:8080/"
        },
        "outputId": "fa238086-25fe-4de7-92ae-f2abe73ea35c"
      },
      "source": [
        "# defina a separação dos dados (X, y) utilizando 70% para treino e 30% para teste\n",
        "from sklearn.model_selection import train_test_split\n",
        "from sklearn.metrics import accuracy_score\n",
        "\n",
        "X_train, X_test, y_train, y_test = train_test_split(x, y,test_size = 0.3,random_state=1) # passando test_size como 0.3 é possível utilizar 30% do conjunto para testes e 70% para treinamento\n",
        "\n",
        "\n",
        "# TODO: treine e avalie o modelo com os dados separados\n",
        "model.fit(X_train,y_train)\n",
        "\n",
        "results_training = model.predict(X_train)\n",
        "results_prediction = model.predict(X_test)\n",
        "\n",
        "print(\"Knn ACC TRAINING:\", accuracy_score(y_train, results_training))\n",
        "print(\"Knn ACC TEST:\",accuracy_score(y_test, results_prediction))"
      ],
      "execution_count": 89,
      "outputs": [
        {
          "output_type": "stream",
          "text": [
            "Knn ACC TRAINING: 0.9523809523809523\n",
            "Knn ACC TEST: 0.9777777777777777\n"
          ],
          "name": "stdout"
        }
      ]
    },
    {
      "cell_type": "markdown",
      "metadata": {
        "id": "RwiOyPzDp5n1"
      },
      "source": [
        "### K-Folds"
      ]
    },
    {
      "cell_type": "markdown",
      "metadata": {
        "id": "z7Jq61lyGzgr"
      },
      "source": [
        "É possível usar o módulo [`cross_val_score`](https://scikit-learn.org/stable/modules/generated/sklearn.model_selection.cross_val_score.html) do sklearn"
      ]
    },
    {
      "cell_type": "code",
      "metadata": {
        "id": "wpGgfQhmG0TI",
        "colab": {
          "base_uri": "https://localhost:8080/"
        },
        "outputId": "47096dba-e367-45fe-ce3a-e89b02a4679b"
      },
      "source": [
        "from sklearn.model_selection import cross_val_score\n",
        "folds = 3\n",
        "# TODO: defina aqui a chamada\n",
        "print(\"cv_score:\")\n",
        "print(cross_val_score(model, x, y, cv=folds))"
      ],
      "execution_count": 90,
      "outputs": [
        {
          "output_type": "stream",
          "text": [
            "cv_score:\n",
            "[0.98 0.96 0.98]\n"
          ],
          "name": "stdout"
        }
      ]
    },
    {
      "cell_type": "markdown",
      "metadata": {
        "id": "9jWTwfKqHZ1w"
      },
      "source": [
        "Ou até expandir para executar o K vezes, seguindo um processo manual"
      ]
    },
    {
      "cell_type": "code",
      "metadata": {
        "id": "Yj8uCsJiqQ0D",
        "outputId": "bf417ad2-0ff1-4bff-c907-e07f52a67adc",
        "colab": {
          "base_uri": "https://localhost:8080/"
        }
      },
      "source": [
        "from sklearn.model_selection import KFold\n",
        "x_times = 3\n",
        "k_folds = 3\n",
        "accs = []\n",
        "\n",
        "for k in range(x_times):\n",
        "    splits = KFold(n_splits=k_folds, shuffle=True)\n",
        "    # a chamada .split() retorna os índices que devem ser usados em cada rodada\n",
        "    for train, test in splits.split(x):\n",
        "      X_train, X_test = x[train],x[test]\n",
        "      y_train, y_test = y[train],y[test]\n",
        "      # TODO: Treino e avaliação\n",
        "\n",
        "      model.fit(X_train,y_train)\n",
        "      results = model.predict(X_test)\n",
        "      accs.append(accuracy_score(y_test, results))\n",
        "      print(\"Knn ACC TEST:\",accuracy_score(y_test, results))\n",
        "\n",
        "average = sum(accs)/len(accs)\n",
        "print(\"Acurácia média: %.2f\"  % (average))"
      ],
      "execution_count": 92,
      "outputs": [
        {
          "output_type": "stream",
          "text": [
            "Knn ACC TEST: 0.98\n",
            "Knn ACC TEST: 0.88\n",
            "Knn ACC TEST: 0.96\n",
            "Knn ACC TEST: 0.96\n",
            "Knn ACC TEST: 0.98\n",
            "Knn ACC TEST: 0.96\n",
            "Knn ACC TEST: 0.94\n",
            "Knn ACC TEST: 0.96\n",
            "Knn ACC TEST: 0.98\n",
            "Acurácia média: 0.96\n"
          ],
          "name": "stdout"
        }
      ]
    },
    {
      "cell_type": "markdown",
      "metadata": {
        "id": "ChuSPXSFldTm"
      },
      "source": [
        "# Regressão Linear"
      ]
    },
    {
      "cell_type": "markdown",
      "metadata": {
        "id": "NRdGzAA2KDzN"
      },
      "source": [
        "Geração aleatória de um conjunto de dados simples"
      ]
    },
    {
      "cell_type": "code",
      "metadata": {
        "colab": {
          "base_uri": "https://localhost:8080/",
          "height": 265
        },
        "id": "C867WoGeJGsx",
        "outputId": "3002732b-284f-458c-eab5-33035c17c1f4"
      },
      "source": [
        "rng = np.random.RandomState(1)\n",
        "x = 10 * rng.rand(50)\n",
        "y = 2 * x - 5 + rng.randn(50)\n",
        "plt.scatter(x, y);"
      ],
      "execution_count": 20,
      "outputs": [
        {
          "output_type": "display_data",
          "data": {
            "image/png": "[encoded data removed]",
            "text/plain": [
              "<Figure size 432x288 with 1 Axes>"
            ]
          },
          "metadata": {
            "tags": [],
            "needs_background": "light"
          }
        }
      ]
    },
    {
      "cell_type": "markdown",
      "metadata": {
        "id": "E1pcBEE9K1wv"
      },
      "source": [
        "Importação e utilização do módulo [`LinearRegression`](https://scikit-learn.org/stable/modules/generated/sklearn.linear_model.LinearRegression.html)  para fazer um ajuste linear as dados gerados"
      ]
    },
    {
      "cell_type": "code",
      "metadata": {
        "id": "ZxQ4CzrdLO_d",
        "colab": {
          "base_uri": "https://localhost:8080/",
          "height": 265
        },
        "outputId": "2f2604cb-304f-47fc-bc7b-499ba8b392c0"
      },
      "source": [
        "from sklearn.linear_model import LinearRegression\n",
        "model = LinearRegression(fit_intercept=True)\n",
        "model.fit(x[:, np.newaxis], y)\n",
        "\n",
        "x_fit = np.linspace(0, 10, 1000)\n",
        "y_fit = model.predict(x_fit[:, np.newaxis])\n",
        "\n",
        "plt.scatter(x, y)\n",
        "plt.plot(x_fit, y_fit);"
      ],
      "execution_count": 21,
      "outputs": [
        {
          "output_type": "display_data",
          "data": {
            "image/png": "[encoded data removed]",
            "text/plain": [
              "<Figure size 432x288 with 1 Axes>"
            ]
          },
          "metadata": {
            "tags": [],
            "needs_background": "light"
          }
        }
      ]
    },
    {
      "cell_type": "markdown",
      "metadata": {
        "id": "SVRhp-8bpp16"
      },
      "source": [
        "Agora, considere a implementação da Regressão Linear do zero, sem o uso do `sklearn` ou outra biblioteca de Machine Learninng."
      ]
    },
    {
      "cell_type": "code",
      "metadata": {
        "id": "AmAMXsCZpqNf"
      },
      "source": [
        "# TODO:"
      ],
      "execution_count": 22,
      "outputs": []
    },
    {
      "cell_type": "markdown",
      "metadata": {
        "id": "BsAbmEhLm2Ua"
      },
      "source": [
        "# Máquinas de Vetores de Suporte"
      ]
    },
    {
      "cell_type": "markdown",
      "metadata": {
        "id": "pP8X5GGfNTrB"
      },
      "source": [
        "Geração de dados iniciais"
      ]
    },
    {
      "cell_type": "code",
      "metadata": {
        "colab": {
          "base_uri": "https://localhost:8080/",
          "height": 336
        },
        "id": "PS4k0qBcNTMS",
        "outputId": "45d1561c-a19f-4251-b345-02814330aca3"
      },
      "source": [
        "from sklearn.datasets.samples_generator import make_blobs\n",
        "X, y = make_blobs(n_samples=50, centers=2, random_state=0, cluster_std=0.60)\n",
        "plt.scatter(X[:, 0], X[:, 1], c=y, s=50, cmap='autumn')"
      ],
      "execution_count": 23,
      "outputs": [
        {
          "output_type": "stream",
          "text": [
            "/usr/local/lib/python3.7/dist-packages/sklearn/utils/deprecation.py:144: FutureWarning: The sklearn.datasets.samples_generator module is  deprecated in version 0.22 and will be removed in version 0.24. The corresponding classes / functions should instead be imported from sklearn.datasets. Anything that cannot be imported from sklearn.datasets is now part of the private API.\n",
            "  warnings.warn(message, FutureWarning)\n"
          ],
          "name": "stderr"
        },
        {
          "output_type": "execute_result",
          "data": {
            "text/plain": [
              "<matplotlib.collections.PathCollection at 0x7fb944bbe950>"
            ]
          },
          "metadata": {
            "tags": []
          },
          "execution_count": 23
        },
        {
          "output_type": "display_data",
          "data": {
            "image/png": "[encoded data removed]",
            "text/plain": [
              "<Figure size 432x288 with 1 Axes>"
            ]
          },
          "metadata": {
            "tags": [],
            "needs_background": "light"
          }
        }
      ]
    },
    {
      "cell_type": "markdown",
      "metadata": {
        "id": "WQ7dwOd1NAk1"
      },
      "source": [
        "Para definir o modelo, podemos usar módule [`SVC (Support Vector Classifier)`](https://scikit-learn.org/stable/modules/generated/sklearn.svm.SVC.html) do [`sklearn.svm`](https://scikit-learn.org/stable/modules/svm.html#:~:text=Support%20vector%20machines%20(SVMs)%20are,than%20the%20number%20of%20samples.)"
      ]
    },
    {
      "cell_type": "code",
      "metadata": {
        "id": "fPm0JO6mL10m"
      },
      "source": [
        "from sklearn.svm import SVC"
      ],
      "execution_count": 24,
      "outputs": []
    },
    {
      "cell_type": "markdown",
      "metadata": {
        "id": "1q4XUyKKNsAm"
      },
      "source": [
        "Com teste inicial, podemos treinar e avaliar um modelo com um kernel linear"
      ]
    },
    {
      "cell_type": "code",
      "metadata": {
        "id": "aqC5OJSaOMAt",
        "colab": {
          "base_uri": "https://localhost:8080/"
        },
        "outputId": "8295a126-3e53-4895-a8ca-70e8b89551aa"
      },
      "source": [
        "# TODO: separação dos dados X, y\n",
        "X_train, X_test, y_train, y_test = train_test_split(X, y,random_state=1)\n",
        "\n",
        "model = SVC(kernel='linear')\n",
        "model.fit(X_train, y_train)\n",
        "\n",
        "results_training = model.predict(X_train)\n",
        "results_test = model.predict(X_test)\n",
        "\n",
        "print(\"SVC ACC TRAINING:\",accuracy_score(y_train, results_training))\n",
        "print(\"SVC ACC TEST:\",accuracy_score(y_test, results_test))"
      ],
      "execution_count": 25,
      "outputs": [
        {
          "output_type": "stream",
          "text": [
            "SVC ACC TRAINING: 1.0\n",
            "SVC ACC TEST: 1.0\n"
          ],
          "name": "stdout"
        }
      ]
    },
    {
      "cell_type": "markdown",
      "metadata": {
        "id": "jxYeHbdVPIMV"
      },
      "source": [
        "E para problemas não lineares?"
      ]
    },
    {
      "cell_type": "markdown",
      "metadata": {
        "id": "3XCfoBIqQM5t"
      },
      "source": [
        "Geração de dados"
      ]
    },
    {
      "cell_type": "code",
      "metadata": {
        "colab": {
          "base_uri": "https://localhost:8080/",
          "height": 282
        },
        "id": "DV2xP4-CPIir",
        "outputId": "20e0524d-ff2f-4e9b-a970-041fe5e74d81"
      },
      "source": [
        "from sklearn.datasets.samples_generator import make_circles\n",
        "X, y = make_circles(100, factor=.1, noise=.1)\n",
        "\n",
        "plt.scatter(X[:, 0], X[:, 1], c=y, s=50, cmap='autumn')"
      ],
      "execution_count": 26,
      "outputs": [
        {
          "output_type": "execute_result",
          "data": {
            "text/plain": [
              "<matplotlib.collections.PathCollection at 0x7fb944bbed90>"
            ]
          },
          "metadata": {
            "tags": []
          },
          "execution_count": 26
        },
        {
          "output_type": "display_data",
          "data": {
            "image/png": "[encoded data removed]",
            "text/plain": [
              "<Figure size 432x288 with 1 Axes>"
            ]
          },
          "metadata": {
            "tags": [],
            "needs_background": "light"
          }
        }
      ]
    },
    {
      "cell_type": "markdown",
      "metadata": {
        "id": "A9buYKzGQgP6"
      },
      "source": [
        "A partir da visualização anterior dos dados, encontre a melhor configuração para um modelo `SVM` (lembrem-se do `truque do kernel` -- variem este parâmetro [`rbf`, `poly`, `sigmoid`, etc]). Para isso, façam testes paramétricos e avaliem o resultado obtido.\n",
        "\n",
        "Dica: é possível plotar os vetores de suporte para entender o comportamento após treinamento. Vejam o `model.support_vectors`"
      ]
    },
    {
      "cell_type": "code",
      "metadata": {
        "id": "V4hxIWqIQgw3",
        "colab": {
          "base_uri": "https://localhost:8080/",
          "height": 363
        },
        "outputId": "8302b85a-fc3c-48aa-ebd2-ef9a77a9909c"
      },
      "source": [
        "# TODO: \n",
        "from sklearn import svm\n",
        "X_train, X_test, y_train, y_test = train_test_split(X, y,test_size = 0.3,random_state=1)\n",
        "\n",
        "model = SVC(kernel='rbf')\n",
        "model.fit(X_train, y_train)\n",
        "\n",
        "results_training = model.predict(X_train)\n",
        "results_test = model.predict(X_test)\n",
        "\n",
        "support_vector_indices = model.support_\n",
        "print(support_vector_indices)\n",
        "\n",
        "support_vectors_per_class = model.n_support_\n",
        "print(support_vectors_per_class)\n",
        "\n",
        "# Get support vectors themselves\n",
        "support_vectors = model.support_vectors_\n",
        "\n",
        "# Visualize support vectors\n",
        "plt.scatter(X_train[:,0], X_train[:,1])\n",
        "plt.scatter(support_vectors[:,0], support_vectors[:,1], color='red')\n",
        "plt.title('support vectors')\n",
        "plt.xlabel('X')\n",
        "plt.ylabel('y')\n",
        "plt.show()\n",
        "\n",
        "print(\"SVC rbf ACC TRAINING :\",accuracy_score(y_train, results_training))\n",
        "print(\"SVC rbf ACC TEST:\",accuracy_score(y_test, results_test))\n",
        "\n"
      ],
      "execution_count": 27,
      "outputs": [
        {
          "output_type": "stream",
          "text": [
            "[ 1  4 34 41 42 60 62 63 15 23 24 26 52 66]\n",
            "[8 6]\n"
          ],
          "name": "stdout"
        },
        {
          "output_type": "display_data",
          "data": {
            "image/png": "[encoded data removed]",
            "text/plain": [
              "<Figure size 432x288 with 1 Axes>"
            ]
          },
          "metadata": {
            "tags": [],
            "needs_background": "light"
          }
        },
        {
          "output_type": "stream",
          "text": [
            "SVC rbf ACC TRAINING : 1.0\n",
            "SVC rbf ACC TEST: 1.0\n"
          ],
          "name": "stdout"
        }
      ]
    },
    {
      "cell_type": "code",
      "metadata": {
        "colab": {
          "base_uri": "https://localhost:8080/",
          "height": 397
        },
        "id": "CkbUPPb2qZIF",
        "outputId": "c684768f-edf6-47ac-ddb6-2415dbeedf05"
      },
      "source": [
        "model = SVC(kernel='poly')\n",
        "model.fit(X_train, y_train)\n",
        "\n",
        "results_training = model.predict(X_train)\n",
        "results_test = model.predict(X_test)\n",
        "\n",
        "support_vector_indices = model.support_\n",
        "print(support_vector_indices)\n",
        "\n",
        "support_vectors_per_class = model.n_support_\n",
        "print(support_vectors_per_class)\n",
        "\n",
        "# Get support vectors themselves\n",
        "support_vectors = model.support_vectors_\n",
        "\n",
        "# Visualize support vectors\n",
        "plt.scatter(X_train[:,0], X_train[:,1])\n",
        "plt.scatter(support_vectors[:,0], support_vectors[:,1], color='red')\n",
        "plt.title('support vectors')\n",
        "plt.xlabel('X')\n",
        "plt.ylabel('y')\n",
        "plt.show()\n",
        "\n",
        "print(\"SVC poly ACC TRAINING:\",accuracy_score(y_train, results_training))\n",
        "print(\"SVC poly ACC TEST:\",accuracy_score(y_test, results_test))"
      ],
      "execution_count": 28,
      "outputs": [
        {
          "output_type": "stream",
          "text": [
            "[ 1  3  4  5  6  7  9 11 13 14 17 18 19 21 22 25 27 31 32 34 36 39 40 41\n",
            " 42 44 45 50 51 53 59 60 62 63  0  2  8 12 16 20 23 26 28 29 30 33 35 37\n",
            " 38 43 46 47 49 52 54 55 56 57 58 61 64 65 66 67 68 69]\n",
            "[34 32]\n"
          ],
          "name": "stdout"
        },
        {
          "output_type": "display_data",
          "data": {
            "image/png": "[encoded data removed]",
            "text/plain": [
              "<Figure size 432x288 with 1 Axes>"
            ]
          },
          "metadata": {
            "tags": [],
            "needs_background": "light"
          }
        },
        {
          "output_type": "stream",
          "text": [
            "SVC poly ACC TRAINING: 0.7285714285714285\n",
            "SVC poly ACC TEST: 0.6666666666666666\n"
          ],
          "name": "stdout"
        }
      ]
    },
    {
      "cell_type": "code",
      "metadata": {
        "colab": {
          "base_uri": "https://localhost:8080/",
          "height": 397
        },
        "id": "xw9KCY2CqhpP",
        "outputId": "8fe9179a-8991-4af9-95ab-56f0d9487dd2"
      },
      "source": [
        "model = SVC(kernel='sigmoid')\n",
        "model.fit(X_train, y_train)\n",
        "\n",
        "support_vector_indices = model.support_\n",
        "print(support_vector_indices)\n",
        "\n",
        "support_vectors_per_class = model.n_support_\n",
        "print(support_vectors_per_class)\n",
        "\n",
        "# Get support vectors themselves\n",
        "support_vectors = model.support_vectors_\n",
        "\n",
        "# Visualize support vectors\n",
        "plt.scatter(X_train[:,0], X_train[:,1])\n",
        "plt.scatter(support_vectors[:,0], support_vectors[:,1], color='red')\n",
        "plt.title('support vectors')\n",
        "plt.xlabel('X')\n",
        "plt.ylabel('y')\n",
        "plt.show()\n",
        "\n",
        "results_training = model.predict(X_train)\n",
        "results_test = model.predict(X_test)\n",
        "\n",
        "print(\"SVC sigmoid ACC TRAINING:\",accuracy_score(y_train, results_training))\n",
        "print(\"SVC sigmoid ACC TEST:\",accuracy_score(y_test, results_test))"
      ],
      "execution_count": 29,
      "outputs": [
        {
          "output_type": "stream",
          "text": [
            "[ 1  3  4  5  6  7  9 10 11 13 14 17 18 19 21 22 25 27 31 32 34 36 40 41\n",
            " 42 44 45 48 50 51 53 59 60 62 63  0  2  8 12 15 16 20 23 24 26 28 29 30\n",
            " 33 35 37 38 43 46 47 49 52 54 55 56 57 58 61 64 65 66 67 68 69]\n",
            "[35 34]\n"
          ],
          "name": "stdout"
        },
        {
          "output_type": "display_data",
          "data": {
            "image/png": "[encoded data removed]",
            "text/plain": [
              "<Figure size 432x288 with 1 Axes>"
            ]
          },
          "metadata": {
            "tags": [],
            "needs_background": "light"
          }
        },
        {
          "output_type": "stream",
          "text": [
            "SVC sigmoid ACC TRAINING: 0.5428571428571428\n",
            "SVC sigmoid ACC TEST: 0.6333333333333333\n"
          ],
          "name": "stdout"
        }
      ]
    },
    {
      "cell_type": "markdown",
      "metadata": {
        "id": "FZKT9RpaQSHF"
      },
      "source": [
        "# Árvores de decisão: classificação de dígitos"
      ]
    },
    {
      "cell_type": "markdown",
      "metadata": {
        "id": "A9F-Np1TSBkQ"
      },
      "source": [
        "Carregamento dos dados"
      ]
    },
    {
      "cell_type": "code",
      "metadata": {
        "id": "0EzUpTMCSAfg"
      },
      "source": [
        "from sklearn.datasets import load_digits\n",
        "digits = load_digits()\n",
        "X = digits.data\n",
        "y = digits.target"
      ],
      "execution_count": 30,
      "outputs": []
    },
    {
      "cell_type": "code",
      "metadata": {
        "id": "tAE0O_XWSQa-",
        "colab": {
          "base_uri": "https://localhost:8080/"
        },
        "outputId": "062f665e-c669-495f-9469-5ec83e57c2bc"
      },
      "source": [
        "# TODO: façam a separação dos dados utilizando um coonjunto holdout 70/30\n",
        "X_train, X_test, y_train, y_test = train_test_split(X, y,test_size = 0.3,random_state=1)\n",
        "\n",
        "\n",
        "\n",
        "# TODO: treinem o modelo\n",
        "from sklearn.tree import DecisionTreeClassifier\n",
        "\n",
        "dtc = DecisionTreeClassifier(random_state=0)\n",
        "dtc.fit(X_train,y_train)\n",
        "\n",
        "# TODO: avaliem o resultado\n",
        "dtc.predict(X_test)\n",
        "\n",
        "results_training = dtc.predict(X_train)\n",
        "results_test = dtc.predict(X_test)\n",
        "\n",
        "print(\"DTC ACC TRAINING:\",accuracy_score(y_train, results_training))\n",
        "print(\"DTC ACC TEST:\",accuracy_score(y_test, results_test))"
      ],
      "execution_count": 31,
      "outputs": [
        {
          "output_type": "stream",
          "text": [
            "DTC ACC TRAINING: 1.0\n",
            "DTC ACC TEST: 0.8592592592592593\n"
          ],
          "name": "stdout"
        }
      ]
    },
    {
      "cell_type": "markdown",
      "metadata": {
        "id": "TYvuKtX3h9hE"
      },
      "source": [
        "# Ensemble"
      ]
    },
    {
      "cell_type": "markdown",
      "metadata": {
        "id": "fpt0dxQRiAa3"
      },
      "source": [
        "Escolha pelo menos 2 modelos discutidos para fazer um ensemble utilizando o mesmo conjunto de dados do exemplo anterior"
      ]
    },
    {
      "cell_type": "code",
      "metadata": {
        "id": "S2Yqgcu_iA7p"
      },
      "source": [
        "# TODO:"
      ],
      "execution_count": 32,
      "outputs": []
    }
  ]
}