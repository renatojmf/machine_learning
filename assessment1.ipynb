{
  "nbformat": 4,
  "nbformat_minor": 0,
  "metadata": {
    "colab": {
      "name": "assessment1.ipynb",
      "provenance": [],
      "collapsed_sections": []
    },
    "kernelspec": {
      "name": "python3",
      "display_name": "Python 3"
    },
    "language_info": {
      "name": "python"
    }
  },
  "cells": [
    {
      "cell_type": "markdown",
      "metadata": {
        "id": "IzO5Zko7ivDZ"
      },
      "source": [
        "# Instruções Gerais\n",
        "\n",
        "*   A atividade é **individual**. Cópias e plágios não serão tolerados\n",
        "*   Data de entrega: **23/07/2021, até as 23:59h**\n",
        "\n",
        "  * Apenas pelo **Classroom**\n",
        "  * Façam uma cópia do notebook, e trabalhem nela para a entrega até o prazo definido\n",
        "  * **Atentem para todos os pontos de `# TODO:`**, pois estes são os pontos de implemenntação\n",
        "* Sobre política de atrasos: \n",
        "  * cada aluno terá a **tolerância de 2 dias de atraso, considerado todos os exercícios** propostos. \n",
        "  * A partir do terceiro dia, 60% da nota obtida será computada. \n",
        "  * Do quarto dia em diante, não será atribuída nota alguma.\n",
        "\n"
      ]
    },
    {
      "cell_type": "markdown",
      "metadata": {
        "id": "w7nx5rTPTClR"
      },
      "source": [
        "# Imports iniciais"
      ]
    },
    {
      "cell_type": "code",
      "metadata": {
        "id": "_M9ho_SjKNat"
      },
      "source": [
        "%matplotlib inline\n",
        "import matplotlib.pyplot as plt\n",
        "import numpy as np\n",
        "from sklearn import metrics"
      ],
      "execution_count": 162,
      "outputs": []
    },
    {
      "cell_type": "markdown",
      "metadata": {
        "id": "bh-8EdhtENPh"
      },
      "source": [
        "# Definição de um model simples para testes usando sklearn"
      ]
    },
    {
      "cell_type": "code",
      "metadata": {
        "id": "B7zz6iS8EUOk"
      },
      "source": [
        "from sklearn.neighbors import KNeighborsClassifier\n",
        "model = KNeighborsClassifier(n_neighbors=3)"
      ],
      "execution_count": 163,
      "outputs": []
    },
    {
      "cell_type": "markdown",
      "metadata": {
        "id": "Bx64mbsTpc4d"
      },
      "source": [
        "# Carregando e Divisão de Dados"
      ]
    },
    {
      "cell_type": "code",
      "metadata": {
        "id": "HxCyVPOqj6kK"
      },
      "source": [
        "from sklearn.datasets import load_iris\n",
        "iris = load_iris()\n",
        "x = iris.data\n",
        "y = iris.target"
      ],
      "execution_count": 164,
      "outputs": []
    },
    {
      "cell_type": "markdown",
      "metadata": {
        "id": "Dn8yxkXCp5NY"
      },
      "source": [
        "## Validação cruzada"
      ]
    },
    {
      "cell_type": "markdown",
      "metadata": {
        "id": "qjOzdgFVDetm"
      },
      "source": [
        "### Holdout"
      ]
    },
    {
      "cell_type": "code",
      "metadata": {
        "id": "MI7YbfvEqQRI",
        "colab": {
          "base_uri": "https://localhost:8080/"
        },
        "outputId": "074667bf-f3aa-4eda-a4ec-43ed52406e93"
      },
      "source": [
        "# defina a separação dos dados (X, y) utilizando 70% para treino e 30% para teste\n",
        "from sklearn.model_selection import train_test_split\n",
        "from sklearn.metrics import accuracy_score\n",
        "\n",
        "X_train, X_test, y_train, y_test = train_test_split(x, y,test_size = 0.3,random_state=1) # passando test_size como 0.3 é possível utilizar 30% do conjunto para testes e 70% para treinamento\n",
        "\n",
        "\n",
        "# TODO: treine e avalie o modelo com os dados separados\n",
        "model.fit(X_train,y_train)\n",
        "\n",
        "results_training = model.predict(X_train)\n",
        "results_prediction = model.predict(X_test)\n",
        "\n",
        "print(\"Knn ACC TRAINING:\", accuracy_score(y_train, results_training))\n",
        "print(\"Knn ACC TEST:\",accuracy_score(y_test, results_prediction))"
      ],
      "execution_count": 165,
      "outputs": [
        {
          "output_type": "stream",
          "text": [
            "Knn ACC TRAINING: 0.9523809523809523\n",
            "Knn ACC TEST: 0.9777777777777777\n"
          ],
          "name": "stdout"
        }
      ]
    },
    {
      "cell_type": "markdown",
      "metadata": {
        "id": "RwiOyPzDp5n1"
      },
      "source": [
        "### K-Folds"
      ]
    },
    {
      "cell_type": "markdown",
      "metadata": {
        "id": "z7Jq61lyGzgr"
      },
      "source": [
        "É possível usar o módulo [`cross_val_score`](https://scikit-learn.org/stable/modules/generated/sklearn.model_selection.cross_val_score.html) do sklearn"
      ]
    },
    {
      "cell_type": "code",
      "metadata": {
        "id": "wpGgfQhmG0TI",
        "colab": {
          "base_uri": "https://localhost:8080/"
        },
        "outputId": "cc48dba1-0768-45ce-c0eb-4f2d63b5e2cc"
      },
      "source": [
        "from sklearn.model_selection import cross_val_score\n",
        "folds = 3\n",
        "# TODO: defina aqui a chamada\n",
        "print(\"cv_score:\")\n",
        "print(cross_val_score(model, x, y, cv=folds))"
      ],
      "execution_count": 166,
      "outputs": [
        {
          "output_type": "stream",
          "text": [
            "cv_score:\n",
            "[0.98 0.96 0.98]\n"
          ],
          "name": "stdout"
        }
      ]
    },
    {
      "cell_type": "markdown",
      "metadata": {
        "id": "9jWTwfKqHZ1w"
      },
      "source": [
        "Ou até expandir para executar o K vezes, seguindo um processo manual"
      ]
    },
    {
      "cell_type": "code",
      "metadata": {
        "id": "Yj8uCsJiqQ0D",
        "colab": {
          "base_uri": "https://localhost:8080/"
        },
        "outputId": "9faf14fb-cecd-4d46-e363-8524cf6bc1c5"
      },
      "source": [
        "from sklearn.model_selection import KFold\n",
        "x_times = 3\n",
        "k_folds = 3\n",
        "accs = []\n",
        "\n",
        "for k in range(x_times):\n",
        "    splits = KFold(n_splits=k_folds, shuffle=True)\n",
        "    # a chamada .split() retorna os índices que devem ser usados em cada rodada\n",
        "    for train, test in splits.split(x):\n",
        "      X_train, X_test = x[train],x[test]\n",
        "      y_train, y_test = y[train],y[test]\n",
        "      # TODO: Treino e avaliação\n",
        "\n",
        "      model.fit(X_train,y_train)\n",
        "      results = model.predict(X_test)\n",
        "      accs.append(accuracy_score(y_test, results))\n",
        "      print(\"Knn ACC TEST:\",accuracy_score(y_test, results))\n",
        "\n",
        "average = sum(accs)/len(accs)\n",
        "print(\"Acurácia média: %.2f\"  % (average))"
      ],
      "execution_count": 167,
      "outputs": [
        {
          "output_type": "stream",
          "text": [
            "Knn ACC TEST: 0.96\n",
            "Knn ACC TEST: 0.96\n",
            "Knn ACC TEST: 0.98\n",
            "Knn ACC TEST: 0.96\n",
            "Knn ACC TEST: 0.96\n",
            "Knn ACC TEST: 0.92\n",
            "Knn ACC TEST: 0.96\n",
            "Knn ACC TEST: 0.94\n",
            "Knn ACC TEST: 0.96\n",
            "Acurácia média: 0.96\n"
          ],
          "name": "stdout"
        }
      ]
    },
    {
      "cell_type": "markdown",
      "metadata": {
        "id": "ChuSPXSFldTm"
      },
      "source": [
        "# Regressão Linear"
      ]
    },
    {
      "cell_type": "markdown",
      "metadata": {
        "id": "NRdGzAA2KDzN"
      },
      "source": [
        "Geração aleatória de um conjunto de dados simples"
      ]
    },
    {
      "cell_type": "code",
      "metadata": {
        "colab": {
          "base_uri": "https://localhost:8080/",
          "height": 265
        },
        "id": "C867WoGeJGsx",
        "outputId": "aca138b0-f7fd-40e9-fac2-644eb7144c4e"
      },
      "source": [
        "rng = np.random.RandomState(1)\n",
        "x_regression = 10 * rng.rand(50)\n",
        "y_regression = 2 * x_regression - 5 + rng.randn(50)\n",
        "plt.scatter(y_regression, y_regression);"
      ],
      "execution_count": 168,
      "outputs": [
        {
          "output_type": "display_data",
          "data": {
            "image/png": "[encoded data removed]",
            "text/plain": [
              "<Figure size 432x288 with 1 Axes>"
            ]
          },
          "metadata": {
            "tags": [],
            "needs_background": "light"
          }
        }
      ]
    },
    {
      "cell_type": "markdown",
      "metadata": {
        "id": "E1pcBEE9K1wv"
      },
      "source": [
        "Importação e utilização do módulo [`LinearRegression`](https://scikit-learn.org/stable/modules/generated/sklearn.linear_model.LinearRegression.html)  para fazer um ajuste linear as dados gerados"
      ]
    },
    {
      "cell_type": "code",
      "metadata": {
        "id": "ZxQ4CzrdLO_d",
        "colab": {
          "base_uri": "https://localhost:8080/",
          "height": 265
        },
        "outputId": "caabeced-2796-4506-b21f-b22a6a5a4817"
      },
      "source": [
        "from sklearn.linear_model import LinearRegression\n",
        "model = LinearRegression(fit_intercept=True)\n",
        "model.fit(x_regression[:, np.newaxis], y_regression)\n",
        "\n",
        "x_fit = np.linspace(0, 10, 1000)\n",
        "y_fit = model.predict(x_fit[:, np.newaxis])\n",
        "\n",
        "plt.scatter(x_regression, y_regression)\n",
        "plt.plot(x_fit, y_fit);"
      ],
      "execution_count": 169,
      "outputs": [
        {
          "output_type": "display_data",
          "data": {
            "image/png": "[encoded data removed]",
            "text/plain": [
              "<Figure size 432x288 with 1 Axes>"
            ]
          },
          "metadata": {
            "tags": [],
            "needs_background": "light"
          }
        }
      ]
    },
    {
      "cell_type": "markdown",
      "metadata": {
        "id": "SVRhp-8bpp16"
      },
      "source": [
        "Agora, considere a implementação da Regressão Linear do zero, sem o uso do `sklearn` ou outra biblioteca de Machine Learninng."
      ]
    },
    {
      "cell_type": "code",
      "metadata": {
        "id": "AmAMXsCZpqNf",
        "colab": {
          "base_uri": "https://localhost:8080/"
        },
        "outputId": "40d5e3f2-9c87-4910-f742-dc0ff7bb5a4f"
      },
      "source": [
        "# TODO:\n",
        "\n",
        "mean_x = np.mean(x_regression)\n",
        "mean_y = np.mean(y_regression)\n",
        "\n",
        "m = len(x_regression)\n",
        "\n",
        "# calculo de m & c\n",
        "# m = numerador / denominador, onde \n",
        "# numerador = Somatorio de todas as amostras x - a media das amostras x multiplicado pela subtração de cada amostra y pela sua média\n",
        "# denominador = somatorio de todas as x - a sua media, valor esse elevado ao quadrado\n",
        "# c = media(y) - m*(media(x))\n",
        "numer = 0\n",
        "denom = 0\n",
        "for i in range(m):\n",
        "  numer += (x_regression[i] - mean_x) * (y_regression[i] - mean_y)\n",
        "  denom += (x_regression[i] - mean_x) ** 2\n",
        "m = numer / denom\n",
        "c = mean_y - (m * mean_x)\n",
        "\n",
        "print (f'm = {m} \\nc = {c}')"
      ],
      "execution_count": 170,
      "outputs": [
        {
          "output_type": "stream",
          "text": [
            "m = 2.0272088103606953 \n",
            "c = -4.998577085553204\n"
          ],
          "name": "stdout"
        }
      ]
    },
    {
      "cell_type": "code",
      "metadata": {
        "id": "avuSuswcSfG9",
        "outputId": "3f145900-ef1c-43df-aad6-61076fc10596",
        "colab": {
          "base_uri": "https://localhost:8080/"
        }
      },
      "source": [
        "# Cálculo R-quadraditico para avaliação do modelo \n",
        "\n",
        "ss_t = 0\n",
        "ss_r = 0 \n",
        "\n",
        "# laço para ajuste da linha\n",
        "for i in range(len(x_regression)): \n",
        "  y_pred = c + m * x_regression[i]\n",
        "  ss_t += (y_regression[i] - mean_y) ** 2\n",
        "  ss_r += (y_regression[i] - y_pred) ** 2\n",
        "r2 = 1 - (ss_r/ss_t)\n",
        "\n",
        "print(r2)"
      ],
      "execution_count": 171,
      "outputs": [
        {
          "output_type": "stream",
          "text": [
            "0.9790800609430612\n"
          ],
          "name": "stdout"
        }
      ]
    },
    {
      "cell_type": "code",
      "metadata": {
        "id": "tMCsvsPSS3VS",
        "outputId": "c96af0ce-5d84-465d-e68d-2625cc9df10d",
        "colab": {
          "base_uri": "https://localhost:8080/",
          "height": 265
        }
      },
      "source": [
        "# plotting values and regression line\n",
        "max_x = np.max(x_regression) + 1\n",
        "min_x = np.min(y_regression) + 1\n",
        "\n",
        "# calculating line values x and y\n",
        "x = np.linspace (min_x, max_x,2)\n",
        "y = c + m * x\n",
        "\n",
        "plt.plot(x, y, color='red', label='Regression Line')\n",
        "plt.scatter(x_regression, y_regression, c='cyan', label='data points')\n",
        "\n",
        "plt.legend()\n",
        "plt.show()"
      ],
      "execution_count": 172,
      "outputs": [
        {
          "output_type": "display_data",
          "data": {
            "image/png": "[encoded data removed]",
            "text/plain": [
              "<Figure size 432x288 with 1 Axes>"
            ]
          },
          "metadata": {
            "tags": [],
            "needs_background": "light"
          }
        }
      ]
    },
    {
      "cell_type": "markdown",
      "metadata": {
        "id": "BsAbmEhLm2Ua"
      },
      "source": [
        "# Máquinas de Vetores de Suporte"
      ]
    },
    {
      "cell_type": "markdown",
      "metadata": {
        "id": "pP8X5GGfNTrB"
      },
      "source": [
        "Geração de dados iniciais"
      ]
    },
    {
      "cell_type": "code",
      "metadata": {
        "colab": {
          "base_uri": "https://localhost:8080/",
          "height": 282
        },
        "id": "PS4k0qBcNTMS",
        "outputId": "78d1b4da-50a7-491d-8528-11ed07776ca9"
      },
      "source": [
        "from sklearn.datasets.samples_generator import make_blobs\n",
        "X, y = make_blobs(n_samples=50, centers=2, random_state=0, cluster_std=0.60)\n",
        "plt.scatter(X[:, 0], X[:, 1], c=y, s=50, cmap='autumn')"
      ],
      "execution_count": 173,
      "outputs": [
        {
          "output_type": "execute_result",
          "data": {
            "text/plain": [
              "<matplotlib.collections.PathCollection at 0x7fb93f8ab890>"
            ]
          },
          "metadata": {
            "tags": []
          },
          "execution_count": 173
        },
        {
          "output_type": "display_data",
          "data": {
            "image/png": "[encoded data removed]",
            "text/plain": [
              "<Figure size 432x288 with 1 Axes>"
            ]
          },
          "metadata": {
            "tags": [],
            "needs_background": "light"
          }
        }
      ]
    },
    {
      "cell_type": "markdown",
      "metadata": {
        "id": "WQ7dwOd1NAk1"
      },
      "source": [
        "Para definir o modelo, podemos usar módule [`SVC (Support Vector Classifier)`](https://scikit-learn.org/stable/modules/generated/sklearn.svm.SVC.html) do [`sklearn.svm`](https://scikit-learn.org/stable/modules/svm.html#:~:text=Support%20vector%20machines%20(SVMs)%20are,than%20the%20number%20of%20samples.)"
      ]
    },
    {
      "cell_type": "code",
      "metadata": {
        "id": "fPm0JO6mL10m"
      },
      "source": [
        "from sklearn.svm import SVC"
      ],
      "execution_count": 174,
      "outputs": []
    },
    {
      "cell_type": "markdown",
      "metadata": {
        "id": "1q4XUyKKNsAm"
      },
      "source": [
        "Com teste inicial, podemos treinar e avaliar um modelo com um kernel linear"
      ]
    },
    {
      "cell_type": "code",
      "metadata": {
        "id": "aqC5OJSaOMAt",
        "colab": {
          "base_uri": "https://localhost:8080/"
        },
        "outputId": "46b40898-2b15-46a7-d376-7ebe8ec0955c"
      },
      "source": [
        "# TODO: separação dos dados X, y\n",
        "X_train, X_test, y_train, y_test = train_test_split(X, y,random_state=1)\n",
        "\n",
        "model = SVC(kernel='linear')\n",
        "model.fit(X_train, y_train)\n",
        "\n",
        "results_training = model.predict(X_train)\n",
        "results_test = model.predict(X_test)\n",
        "\n",
        "print(\"SVC ACC TRAINING:\",accuracy_score(y_train, results_training))\n",
        "print(\"SVC ACC TEST:\",accuracy_score(y_test, results_test))"
      ],
      "execution_count": 175,
      "outputs": [
        {
          "output_type": "stream",
          "text": [
            "SVC ACC TRAINING: 1.0\n",
            "SVC ACC TEST: 1.0\n"
          ],
          "name": "stdout"
        }
      ]
    },
    {
      "cell_type": "markdown",
      "metadata": {
        "id": "jxYeHbdVPIMV"
      },
      "source": [
        "E para problemas não lineares?"
      ]
    },
    {
      "cell_type": "markdown",
      "metadata": {
        "id": "3XCfoBIqQM5t"
      },
      "source": [
        "Geração de dados"
      ]
    },
    {
      "cell_type": "code",
      "metadata": {
        "colab": {
          "base_uri": "https://localhost:8080/",
          "height": 282
        },
        "id": "DV2xP4-CPIir",
        "outputId": "b08d7bfd-4875-46f1-930d-fbfafd346b31"
      },
      "source": [
        "from sklearn.datasets.samples_generator import make_circles\n",
        "X, y = make_circles(100, factor=.1, noise=.1)\n",
        "\n",
        "plt.scatter(X[:, 0], X[:, 1], c=y, s=50, cmap='autumn')"
      ],
      "execution_count": 176,
      "outputs": [
        {
          "output_type": "execute_result",
          "data": {
            "text/plain": [
              "<matplotlib.collections.PathCollection at 0x7fb93f502610>"
            ]
          },
          "metadata": {
            "tags": []
          },
          "execution_count": 176
        },
        {
          "output_type": "display_data",
          "data": {
            "image/png": "[encoded data removed]",
            "text/plain": [
              "<Figure size 432x288 with 1 Axes>"
            ]
          },
          "metadata": {
            "tags": [],
            "needs_background": "light"
          }
        }
      ]
    },
    {
      "cell_type": "markdown",
      "metadata": {
        "id": "A9buYKzGQgP6"
      },
      "source": [
        "A partir da visualização anterior dos dados, encontre a melhor configuração para um modelo `SVM` (lembrem-se do `truque do kernel` -- variem este parâmetro [`rbf`, `poly`, `sigmoid`, etc]). Para isso, façam testes paramétricos e avaliem o resultado obtido.\n",
        "\n",
        "Dica: é possível plotar os vetores de suporte para entender o comportamento após treinamento. Vejam o `model.support_vectors`"
      ]
    },
    {
      "cell_type": "code",
      "metadata": {
        "id": "V4hxIWqIQgw3",
        "colab": {
          "base_uri": "https://localhost:8080/",
          "height": 363
        },
        "outputId": "029aef05-e639-48a3-9391-9cb109d257a3"
      },
      "source": [
        "# TODO: \n",
        "from sklearn import svm\n",
        "X_train, X_test, y_train, y_test = train_test_split(X, y,test_size = 0.3,random_state=1)\n",
        "\n",
        "model = SVC(kernel='rbf')\n",
        "model.fit(X_train, y_train)\n",
        "\n",
        "results_training = model.predict(X_train)\n",
        "results_test = model.predict(X_test)\n",
        "\n",
        "support_vector_indices = model.support_\n",
        "print(support_vector_indices)\n",
        "\n",
        "support_vectors_per_class = model.n_support_\n",
        "print(support_vectors_per_class)\n",
        "\n",
        "# Get support vectors themselves\n",
        "support_vectors = model.support_vectors_\n",
        "\n",
        "# Visualize support vectors\n",
        "plt.scatter(X_train[:,0], X_train[:,1])\n",
        "plt.scatter(support_vectors[:,0], support_vectors[:,1], color='red')\n",
        "plt.title('support vectors')\n",
        "plt.xlabel('X')\n",
        "plt.ylabel('y')\n",
        "plt.show()\n",
        "\n",
        "print(\"SVC rbf ACC TRAINING :\",accuracy_score(y_train, results_training))\n",
        "print(\"SVC rbf ACC TEST:\",accuracy_score(y_test, results_test))\n",
        "\n"
      ],
      "execution_count": 177,
      "outputs": [
        {
          "output_type": "stream",
          "text": [
            "[ 0  6  9 51 52 58 21 26 47 49 61]\n",
            "[6 5]\n"
          ],
          "name": "stdout"
        },
        {
          "output_type": "display_data",
          "data": {
            "image/png": "[encoded data removed]",
            "text/plain": [
              "<Figure size 432x288 with 1 Axes>"
            ]
          },
          "metadata": {
            "tags": [],
            "needs_background": "light"
          }
        },
        {
          "output_type": "stream",
          "text": [
            "SVC rbf ACC TRAINING : 1.0\n",
            "SVC rbf ACC TEST: 1.0\n"
          ],
          "name": "stdout"
        }
      ]
    },
    {
      "cell_type": "code",
      "metadata": {
        "colab": {
          "base_uri": "https://localhost:8080/",
          "height": 397
        },
        "id": "CkbUPPb2qZIF",
        "outputId": "3b40d87d-e384-4529-eee8-92815c57c781"
      },
      "source": [
        "model = SVC(kernel='poly')\n",
        "model.fit(X_train, y_train)\n",
        "\n",
        "results_training = model.predict(X_train)\n",
        "results_test = model.predict(X_test)\n",
        "\n",
        "support_vector_indices = model.support_\n",
        "print(support_vector_indices)\n",
        "\n",
        "support_vectors_per_class = model.n_support_\n",
        "print(support_vectors_per_class)\n",
        "\n",
        "# Get support vectors themselves\n",
        "support_vectors = model.support_vectors_\n",
        "\n",
        "# Visualize support vectors\n",
        "plt.scatter(X_train[:,0], X_train[:,1])\n",
        "plt.scatter(support_vectors[:,0], support_vectors[:,1], color='red')\n",
        "plt.title('support vectors')\n",
        "plt.xlabel('X')\n",
        "plt.ylabel('y')\n",
        "plt.show()\n",
        "\n",
        "print(\"SVC poly ACC TRAINING:\",accuracy_score(y_train, results_training))\n",
        "print(\"SVC poly ACC TEST:\",accuracy_score(y_test, results_test))"
      ],
      "execution_count": 178,
      "outputs": [
        {
          "output_type": "stream",
          "text": [
            "[ 0  1  3  6  7  9 11 13 14 15 17 18 22 23 24 25 29 31 35 36 38 40 43 45\n",
            " 48 51 52 56 57 58 60 62 65 67  2  4  5  8 10 12 16 20 21 26 27 28 30 32\n",
            " 33 34 37 41 42 44 46 49 50 53 54 55 59 61 63 64 66 68 69]\n",
            "[34 33]\n"
          ],
          "name": "stdout"
        },
        {
          "output_type": "display_data",
          "data": {
            "image/png": "[encoded data removed]",
            "text/plain": [
              "<Figure size 432x288 with 1 Axes>"
            ]
          },
          "metadata": {
            "tags": [],
            "needs_background": "light"
          }
        },
        {
          "output_type": "stream",
          "text": [
            "SVC poly ACC TRAINING: 0.7\n",
            "SVC poly ACC TEST: 0.7\n"
          ],
          "name": "stdout"
        }
      ]
    },
    {
      "cell_type": "code",
      "metadata": {
        "colab": {
          "base_uri": "https://localhost:8080/",
          "height": 397
        },
        "id": "xw9KCY2CqhpP",
        "outputId": "66b0ef80-6061-41d8-e2b3-1c98b49ce69b"
      },
      "source": [
        "model = SVC(kernel='sigmoid')\n",
        "model.fit(X_train, y_train)\n",
        "\n",
        "support_vector_indices = model.support_\n",
        "print(support_vector_indices)\n",
        "\n",
        "support_vectors_per_class = model.n_support_\n",
        "print(support_vectors_per_class)\n",
        "\n",
        "# Get support vectors themselves\n",
        "support_vectors = model.support_vectors_\n",
        "\n",
        "# Visualize support vectors\n",
        "plt.scatter(X_train[:,0], X_train[:,1])\n",
        "plt.scatter(support_vectors[:,0], support_vectors[:,1], color='red')\n",
        "plt.title('support vectors')\n",
        "plt.xlabel('X')\n",
        "plt.ylabel('y')\n",
        "plt.show()\n",
        "\n",
        "results_training = model.predict(X_train)\n",
        "results_test = model.predict(X_test)\n",
        "\n",
        "print(\"SVC sigmoid ACC TRAINING:\",accuracy_score(y_train, results_training))\n",
        "print(\"SVC sigmoid ACC TEST:\",accuracy_score(y_test, results_test))"
      ],
      "execution_count": 179,
      "outputs": [
        {
          "output_type": "stream",
          "text": [
            "[ 0  1  3  6  7  9 11 13 14 15 17 18 19 22 23 24 25 29 31 35 36 39 43 45\n",
            " 48 51 52 56 57 58 60 62 65 67  2  4  5  8 10 12 16 20 21 26 27 28 30 32\n",
            " 33 34 37 41 42 44 46 47 49 50 53 54 55 59 61 63 64 66 68 69]\n",
            "[34 34]\n"
          ],
          "name": "stdout"
        },
        {
          "output_type": "display_data",
          "data": {
            "image/png": "[encoded data removed]",
            "text/plain": [
              "<Figure size 432x288 with 1 Axes>"
            ]
          },
          "metadata": {
            "tags": [],
            "needs_background": "light"
          }
        },
        {
          "output_type": "stream",
          "text": [
            "SVC sigmoid ACC TRAINING: 0.6285714285714286\n",
            "SVC sigmoid ACC TEST: 0.6666666666666666\n"
          ],
          "name": "stdout"
        }
      ]
    },
    {
      "cell_type": "markdown",
      "metadata": {
        "id": "FZKT9RpaQSHF"
      },
      "source": [
        "# Árvores de decisão: classificação de dígitos"
      ]
    },
    {
      "cell_type": "markdown",
      "metadata": {
        "id": "A9F-Np1TSBkQ"
      },
      "source": [
        "Carregamento dos dados"
      ]
    },
    {
      "cell_type": "code",
      "metadata": {
        "id": "0EzUpTMCSAfg"
      },
      "source": [
        "from sklearn.datasets import load_digits\n",
        "digits = load_digits()\n",
        "X = digits.data\n",
        "y = digits.target"
      ],
      "execution_count": 180,
      "outputs": []
    },
    {
      "cell_type": "code",
      "metadata": {
        "id": "tAE0O_XWSQa-",
        "colab": {
          "base_uri": "https://localhost:8080/"
        },
        "outputId": "05e2a65e-5e0e-43df-e20d-c943c6dd40f7"
      },
      "source": [
        "# TODO: façam a separação dos dados utilizando um coonjunto holdout 70/30\n",
        "X_train, X_test, y_train, y_test = train_test_split(X, y,test_size = 0.3,random_state=1)\n",
        "\n",
        "\n",
        "\n",
        "# TODO: treinem o modelo\n",
        "from sklearn.tree import DecisionTreeClassifier\n",
        "\n",
        "dtc = DecisionTreeClassifier(random_state=0)\n",
        "dtc.fit(X_train,y_train)\n",
        "\n",
        "# TODO: avaliem o resultado\n",
        "dtc.predict(X_test)\n",
        "\n",
        "results_training = dtc.predict(X_train)\n",
        "results_test = dtc.predict(X_test)\n",
        "\n",
        "print(\"DTC ACC TRAINING:\",accuracy_score(y_train, results_training))\n",
        "print(\"DTC ACC TEST:\",accuracy_score(y_test, results_test))"
      ],
      "execution_count": 181,
      "outputs": [
        {
          "output_type": "stream",
          "text": [
            "DTC ACC TRAINING: 1.0\n",
            "DTC ACC TEST: 0.8592592592592593\n"
          ],
          "name": "stdout"
        }
      ]
    },
    {
      "cell_type": "markdown",
      "metadata": {
        "id": "TYvuKtX3h9hE"
      },
      "source": [
        "# Ensemble"
      ]
    },
    {
      "cell_type": "markdown",
      "metadata": {
        "id": "fpt0dxQRiAa3"
      },
      "source": [
        "Escolha pelo menos 2 modelos discutidos para fazer um ensemble utilizando o mesmo conjunto de dados do exemplo anterior"
      ]
    },
    {
      "cell_type": "code",
      "metadata": {
        "id": "S2Yqgcu_iA7p"
      },
      "source": [
        "# TODO:"
      ],
      "execution_count": 182,
      "outputs": []
    }
  ]
}