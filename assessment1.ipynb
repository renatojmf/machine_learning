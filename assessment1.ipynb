{
  "nbformat": 4,
  "nbformat_minor": 0,
  "metadata": {
    "colab": {
      "name": "assessment1.ipynb",
      "provenance": [],
      "collapsed_sections": []
    },
    "kernelspec": {
      "name": "python3",
      "display_name": "Python 3"
    },
    "language_info": {
      "name": "python"
    }
  },
  "cells": [
    {
      "cell_type": "markdown",
      "metadata": {
        "id": "IzO5Zko7ivDZ"
      },
      "source": [
        "# Instruções Gerais\n",
        "\n",
        "*   A atividade é **individual**. Cópias e plágios não serão tolerados\n",
        "*   Data de entrega: **23/07/2021, até as 23:59h**\n",
        "\n",
        "  * Apenas pelo **Classroom**\n",
        "  * Façam uma cópia do notebook, e trabalhem nela para a entrega até o prazo definido\n",
        "  * **Atentem para todos os pontos de `# TODO:`**, pois estes são os pontos de implemenntação\n",
        "* Sobre política de atrasos: \n",
        "  * cada aluno terá a **tolerância de 2 dias de atraso, considerado todos os exercícios** propostos. \n",
        "  * A partir do terceiro dia, 60% da nota obtida será computada. \n",
        "  * Do quarto dia em diante, não será atribuída nota alguma.\n",
        "\n"
      ]
    },
    {
      "cell_type": "markdown",
      "metadata": {
        "id": "w7nx5rTPTClR"
      },
      "source": [
        "# Imports iniciais"
      ]
    },
    {
      "cell_type": "code",
      "metadata": {
        "id": "_M9ho_SjKNat"
      },
      "source": [
        "%matplotlib inline\n",
        "import matplotlib.pyplot as plt\n",
        "import numpy as np\n",
        "from sklearn import metrics"
      ],
      "execution_count": 114,
      "outputs": []
    },
    {
      "cell_type": "markdown",
      "metadata": {
        "id": "bh-8EdhtENPh"
      },
      "source": [
        "# Definição de um model simples para testes usando sklearn"
      ]
    },
    {
      "cell_type": "code",
      "metadata": {
        "id": "B7zz6iS8EUOk"
      },
      "source": [
        "from sklearn.neighbors import KNeighborsClassifier\n",
        "model = KNeighborsClassifier(n_neighbors=3)"
      ],
      "execution_count": 115,
      "outputs": []
    },
    {
      "cell_type": "markdown",
      "metadata": {
        "id": "Bx64mbsTpc4d"
      },
      "source": [
        "# Carregando e Divisão de Dados"
      ]
    },
    {
      "cell_type": "code",
      "metadata": {
        "id": "HxCyVPOqj6kK"
      },
      "source": [
        "from sklearn.datasets import load_iris\n",
        "iris = load_iris()\n",
        "x = iris.data\n",
        "y = iris.target"
      ],
      "execution_count": 116,
      "outputs": []
    },
    {
      "cell_type": "markdown",
      "metadata": {
        "id": "Dn8yxkXCp5NY"
      },
      "source": [
        "## Validação cruzada"
      ]
    },
    {
      "cell_type": "markdown",
      "metadata": {
        "id": "qjOzdgFVDetm"
      },
      "source": [
        "### Holdout"
      ]
    },
    {
      "cell_type": "code",
      "metadata": {
        "id": "MI7YbfvEqQRI",
        "colab": {
          "base_uri": "https://localhost:8080/"
        },
        "outputId": "81e17c6f-b94b-48c5-eab1-f29dd42c2f8a"
      },
      "source": [
        "# defina a separação dos dados (X, y) utilizando 70% para treino e 30% para teste\n",
        "from sklearn.model_selection import train_test_split\n",
        "from sklearn.metrics import accuracy_score\n",
        "\n",
        "X_train, X_test, y_train, y_test = train_test_split(x, y,test_size = 0.3,random_state=1) # passando test_size como 0.3 é possível utilizar 30% do conjunto para testes e 70% para treinamento\n",
        "\n",
        "\n",
        "# TODO: treine e avalie o modelo com os dados separados\n",
        "model.fit(X_train,y_train)\n",
        "\n",
        "results_training = model.predict(X_train)\n",
        "results_prediction = model.predict(X_test)\n",
        "\n",
        "print(\"Knn ACC TRAINING:\", accuracy_score(y_train, results_training))\n",
        "print(\"Knn ACC TEST:\",accuracy_score(y_test, results_prediction))"
      ],
      "execution_count": 117,
      "outputs": [
        {
          "output_type": "stream",
          "text": [
            "Knn ACC TRAINING: 0.9523809523809523\n",
            "Knn ACC TEST: 0.9777777777777777\n"
          ],
          "name": "stdout"
        }
      ]
    },
    {
      "cell_type": "markdown",
      "metadata": {
        "id": "RwiOyPzDp5n1"
      },
      "source": [
        "### K-Folds"
      ]
    },
    {
      "cell_type": "markdown",
      "metadata": {
        "id": "z7Jq61lyGzgr"
      },
      "source": [
        "É possível usar o módulo [`cross_val_score`](https://scikit-learn.org/stable/modules/generated/sklearn.model_selection.cross_val_score.html) do sklearn"
      ]
    },
    {
      "cell_type": "code",
      "metadata": {
        "id": "wpGgfQhmG0TI",
        "colab": {
          "base_uri": "https://localhost:8080/"
        },
        "outputId": "c4a6ca98-62b6-4ac0-b080-147d0389e340"
      },
      "source": [
        "from sklearn.model_selection import cross_val_score\n",
        "folds = 3\n",
        "# TODO: defina aqui a chamada\n",
        "print(\"cv_score:\")\n",
        "print(cross_val_score(model, x, y, cv=folds))"
      ],
      "execution_count": 118,
      "outputs": [
        {
          "output_type": "stream",
          "text": [
            "cv_score:\n",
            "[0.98 0.96 0.98]\n"
          ],
          "name": "stdout"
        }
      ]
    },
    {
      "cell_type": "markdown",
      "metadata": {
        "id": "9jWTwfKqHZ1w"
      },
      "source": [
        "Ou até expandir para executar o K vezes, seguindo um processo manual"
      ]
    },
    {
      "cell_type": "code",
      "metadata": {
        "id": "Yj8uCsJiqQ0D"
      },
      "source": [
        "from sklearn.model_selection import KFold\n",
        "x_times = 3\n",
        "k_folds = 3\n",
        "\n",
        "for k in range(x_times):\n",
        "    splits = KFold(n_splits=k_folds, shuffle=True)\n",
        "    # a chamada .split() retorna os índices que devem ser usados em cada rodada\n",
        "    for train, test in splits.split(x):\n",
        "      train_data = X[train]\n",
        "      test_data = y[test]\n",
        "\n",
        "      # TODO: Treino e avaliação\n"
      ],
      "execution_count": 119,
      "outputs": []
    },
    {
      "cell_type": "markdown",
      "metadata": {
        "id": "ChuSPXSFldTm"
      },
      "source": [
        "# Regressão Linear"
      ]
    },
    {
      "cell_type": "markdown",
      "metadata": {
        "id": "NRdGzAA2KDzN"
      },
      "source": [
        "Geração aleatória de um conjunto de dados simples"
      ]
    },
    {
      "cell_type": "code",
      "metadata": {
        "colab": {
          "base_uri": "https://localhost:8080/",
          "height": 265
        },
        "id": "C867WoGeJGsx",
        "outputId": "4afd02f3-8941-4113-f91e-8f4bd7ef187c"
      },
      "source": [
        "rng = np.random.RandomState(1)\n",
        "x = 10 * rng.rand(50)\n",
        "y = 2 * x - 5 + rng.randn(50)\n",
        "plt.scatter(x, y);"
      ],
      "execution_count": 120,
      "outputs": [
        {
          "output_type": "display_data",
          "data": {
            "image/png": "[encoded data removed]",
            "text/plain": [
              "<Figure size 432x288 with 1 Axes>"
            ]
          },
          "metadata": {
            "tags": [],
            "needs_background": "light"
          }
        }
      ]
    },
    {
      "cell_type": "markdown",
      "metadata": {
        "id": "E1pcBEE9K1wv"
      },
      "source": [
        "Importação e utilização do módulo [`LinearRegression`](https://scikit-learn.org/stable/modules/generated/sklearn.linear_model.LinearRegression.html)  para fazer um ajuste linear as dados gerados"
      ]
    },
    {
      "cell_type": "code",
      "metadata": {
        "id": "ZxQ4CzrdLO_d",
        "colab": {
          "base_uri": "https://localhost:8080/",
          "height": 265
        },
        "outputId": "bc7a6085-dc58-4e42-b082-e4bcb981fe81"
      },
      "source": [
        "from sklearn.linear_model import LinearRegression\n",
        "model = LinearRegression(fit_intercept=True)\n",
        "model.fit(x[:, np.newaxis], y)\n",
        "\n",
        "x_fit = np.linspace(0, 10, 1000)\n",
        "y_fit = model.predict(x_fit[:, np.newaxis])\n",
        "\n",
        "plt.scatter(x, y)\n",
        "plt.plot(x_fit, y_fit);"
      ],
      "execution_count": 121,
      "outputs": [
        {
          "output_type": "display_data",
          "data": {
            "image/png": "[encoded data removed]",
            "text/plain": [
              "<Figure size 432x288 with 1 Axes>"
            ]
          },
          "metadata": {
            "tags": [],
            "needs_background": "light"
          }
        }
      ]
    },
    {
      "cell_type": "markdown",
      "metadata": {
        "id": "SVRhp-8bpp16"
      },
      "source": [
        "Agora, considere a implementação da Regressão Linear do zero, sem o uso do `sklearn` ou outra biblioteca de Machine Learninng."
      ]
    },
    {
      "cell_type": "code",
      "metadata": {
        "id": "AmAMXsCZpqNf"
      },
      "source": [
        "# TODO:"
      ],
      "execution_count": 122,
      "outputs": []
    },
    {
      "cell_type": "markdown",
      "metadata": {
        "id": "BsAbmEhLm2Ua"
      },
      "source": [
        "# Máquinas de Vetores de Suporte"
      ]
    },
    {
      "cell_type": "markdown",
      "metadata": {
        "id": "pP8X5GGfNTrB"
      },
      "source": [
        "Geração de dados iniciais"
      ]
    },
    {
      "cell_type": "code",
      "metadata": {
        "colab": {
          "base_uri": "https://localhost:8080/",
          "height": 282
        },
        "id": "PS4k0qBcNTMS",
        "outputId": "f829e7c4-1105-462e-c431-d6b475a15441"
      },
      "source": [
        "from sklearn.datasets.samples_generator import make_blobs\n",
        "X, y = make_blobs(n_samples=50, centers=2, random_state=0, cluster_std=0.60)\n",
        "plt.scatter(X[:, 0], X[:, 1], c=y, s=50, cmap='autumn')"
      ],
      "execution_count": 123,
      "outputs": [
        {
          "output_type": "execute_result",
          "data": {
            "text/plain": [
              "<matplotlib.collections.PathCollection at 0x7f247d252b50>"
            ]
          },
          "metadata": {
            "tags": []
          },
          "execution_count": 123
        },
        {
          "output_type": "display_data",
          "data": {
            "image/png": "[encoded data removed]",
            "text/plain": [
              "<Figure size 432x288 with 1 Axes>"
            ]
          },
          "metadata": {
            "tags": [],
            "needs_background": "light"
          }
        }
      ]
    },
    {
      "cell_type": "markdown",
      "metadata": {
        "id": "WQ7dwOd1NAk1"
      },
      "source": [
        "Para definir o modelo, podemos usar módule [`SVC (Support Vector Classifier)`](https://scikit-learn.org/stable/modules/generated/sklearn.svm.SVC.html) do [`sklearn.svm`](https://scikit-learn.org/stable/modules/svm.html#:~:text=Support%20vector%20machines%20(SVMs)%20are,than%20the%20number%20of%20samples.)"
      ]
    },
    {
      "cell_type": "code",
      "metadata": {
        "id": "fPm0JO6mL10m"
      },
      "source": [
        "from sklearn.svm import SVC"
      ],
      "execution_count": 124,
      "outputs": []
    },
    {
      "cell_type": "markdown",
      "metadata": {
        "id": "1q4XUyKKNsAm"
      },
      "source": [
        "Com teste inicial, podemos treinar e avaliar um modelo com um kernel linear"
      ]
    },
    {
      "cell_type": "code",
      "metadata": {
        "id": "aqC5OJSaOMAt",
        "colab": {
          "base_uri": "https://localhost:8080/"
        },
        "outputId": "a1831296-a102-42e6-ecd0-0c3434dd7a35"
      },
      "source": [
        "# TODO: separação dos dados X, y\n",
        "X_train, X_test, y_train, y_test = train_test_split(X, y,random_state=1)\n",
        "\n",
        "model = SVC(kernel='linear')\n",
        "model.fit(X_train, y_train)\n",
        "\n",
        "results_training = model.predict(X_train)\n",
        "results_test = model.predict(X_test)\n",
        "\n",
        "print(\"SVC ACC TRAINING:\",accuracy_score(y_train, results_training))\n",
        "print(\"SVC ACC TEST:\",accuracy_score(y_test, results_test))"
      ],
      "execution_count": 125,
      "outputs": [
        {
          "output_type": "stream",
          "text": [
            "SVC ACC TRAINING: 1.0\n",
            "SVC ACC TEST: 1.0\n"
          ],
          "name": "stdout"
        }
      ]
    },
    {
      "cell_type": "markdown",
      "metadata": {
        "id": "jxYeHbdVPIMV"
      },
      "source": [
        "E para problemas não lineares?"
      ]
    },
    {
      "cell_type": "markdown",
      "metadata": {
        "id": "3XCfoBIqQM5t"
      },
      "source": [
        "Geração de dados"
      ]
    },
    {
      "cell_type": "code",
      "metadata": {
        "colab": {
          "base_uri": "https://localhost:8080/",
          "height": 282
        },
        "id": "DV2xP4-CPIir",
        "outputId": "d7bf1e1f-7345-4999-9586-9ef2edfdcd50"
      },
      "source": [
        "from sklearn.datasets.samples_generator import make_circles\n",
        "X, y = make_circles(100, factor=.1, noise=.1)\n",
        "\n",
        "plt.scatter(X[:, 0], X[:, 1], c=y, s=50, cmap='autumn')"
      ],
      "execution_count": 126,
      "outputs": [
        {
          "output_type": "execute_result",
          "data": {
            "text/plain": [
              "<matplotlib.collections.PathCollection at 0x7f247cecbd50>"
            ]
          },
          "metadata": {
            "tags": []
          },
          "execution_count": 126
        },
        {
          "output_type": "display_data",
          "data": {
            "image/png": "[encoded data removed]",
            "text/plain": [
              "<Figure size 432x288 with 1 Axes>"
            ]
          },
          "metadata": {
            "tags": [],
            "needs_background": "light"
          }
        }
      ]
    },
    {
      "cell_type": "markdown",
      "metadata": {
        "id": "A9buYKzGQgP6"
      },
      "source": [
        "A partir da visualização anterior dos dados, encontre a melhor configuração para um modelo `SVM` (lembrem-se do `truque do kernel` -- variem este parâmetro [`rbf`, `poly`, `sigmoid`, etc]). Para isso, façam testes paramétricos e avaliem o resultado obtido.\n",
        "\n",
        "Dica: é possível plotar os vetores de suporte para entender o comportamento após treinamento. Vejam o `model.support_vectors`"
      ]
    },
    {
      "cell_type": "code",
      "metadata": {
        "id": "V4hxIWqIQgw3",
        "colab": {
          "base_uri": "https://localhost:8080/",
          "height": 363
        },
        "outputId": "3bf7a2ad-f2af-42f9-f6e6-7b78f8ce4597"
      },
      "source": [
        "# TODO: \n",
        "from sklearn import svm\n",
        "X_train, X_test, y_train, y_test = train_test_split(X, y,test_size = 0.3,random_state=1)\n",
        "\n",
        "model = SVC(kernel='rbf')\n",
        "model.fit(X_train, y_train)\n",
        "\n",
        "results_training = model.predict(X_train)\n",
        "results_test = model.predict(X_test)\n",
        "\n",
        "support_vector_indices = model.support_\n",
        "print(support_vector_indices)\n",
        "\n",
        "support_vectors_per_class = model.n_support_\n",
        "print(support_vectors_per_class)\n",
        "\n",
        "# Get support vectors themselves\n",
        "support_vectors = model.support_vectors_\n",
        "\n",
        "# Visualize support vectors\n",
        "plt.scatter(X_train[:,0], X_train[:,1])\n",
        "plt.scatter(support_vectors[:,0], support_vectors[:,1], color='red')\n",
        "plt.title('support vectors')\n",
        "plt.xlabel('X')\n",
        "plt.ylabel('y')\n",
        "plt.show()\n",
        "\n",
        "print(\"SVC rbf ACC TRAINING :\",accuracy_score(y_train, results_training))\n",
        "print(\"SVC rbf ACC TEST:\",accuracy_score(y_test, results_test))\n",
        "\n"
      ],
      "execution_count": 127,
      "outputs": [
        {
          "output_type": "stream",
          "text": [
            "[ 3  4 15 16 19 32 39 55 17 21 23 67 68]\n",
            "[8 5]\n"
          ],
          "name": "stdout"
        },
        {
          "output_type": "display_data",
          "data": {
            "image/png": "[encoded data removed]",
            "text/plain": [
              "<Figure size 432x288 with 1 Axes>"
            ]
          },
          "metadata": {
            "tags": [],
            "needs_background": "light"
          }
        },
        {
          "output_type": "stream",
          "text": [
            "SVC rbf ACC TRAINING : 1.0\n",
            "SVC rbf ACC TEST: 1.0\n"
          ],
          "name": "stdout"
        }
      ]
    },
    {
      "cell_type": "code",
      "metadata": {
        "colab": {
          "base_uri": "https://localhost:8080/",
          "height": 397
        },
        "id": "CkbUPPb2qZIF",
        "outputId": "bd3f13c3-5be3-4e0c-93fd-84b79180cd80"
      },
      "source": [
        "model = SVC(kernel='poly')\n",
        "model.fit(X_train, y_train)\n",
        "\n",
        "results_training = model.predict(X_train)\n",
        "results_test = model.predict(X_test)\n",
        "\n",
        "support_vector_indices = model.support_\n",
        "print(support_vector_indices)\n",
        "\n",
        "support_vectors_per_class = model.n_support_\n",
        "print(support_vectors_per_class)\n",
        "\n",
        "# Get support vectors themselves\n",
        "support_vectors = model.support_vectors_\n",
        "\n",
        "# Visualize support vectors\n",
        "plt.scatter(X_train[:,0], X_train[:,1])\n",
        "plt.scatter(support_vectors[:,0], support_vectors[:,1], color='red')\n",
        "plt.title('support vectors')\n",
        "plt.xlabel('X')\n",
        "plt.ylabel('y')\n",
        "plt.show()\n",
        "\n",
        "print(\"SVC poly ACC TRAINING:\",accuracy_score(y_train, results_training))\n",
        "print(\"SVC poly ACC TEST:\",accuracy_score(y_test, results_test))"
      ],
      "execution_count": 128,
      "outputs": [
        {
          "output_type": "stream",
          "text": [
            "[ 1  3  4  7  8 12 15 16 18 19 22 24 25 26 27 30 31 32 33 34 36 37 39 40\n",
            " 41 44 47 48 49 53 55 57 61 62 64 69  0  2  5  6  9 10 11 13 14 17 20 21\n",
            " 23 28 29 35 38 42 43 45 46 50 51 52 54 56 58 59 60 63 65 66 67 68]\n",
            "[36 34]\n"
          ],
          "name": "stdout"
        },
        {
          "output_type": "display_data",
          "data": {
            "image/png": "[encoded data removed]",
            "text/plain": [
              "<Figure size 432x288 with 1 Axes>"
            ]
          },
          "metadata": {
            "tags": [],
            "needs_background": "light"
          }
        },
        {
          "output_type": "stream",
          "text": [
            "SVC poly ACC TRAINING: 0.4\n",
            "SVC poly ACC TEST: 0.23333333333333334\n"
          ],
          "name": "stdout"
        }
      ]
    },
    {
      "cell_type": "code",
      "metadata": {
        "colab": {
          "base_uri": "https://localhost:8080/",
          "height": 397
        },
        "id": "xw9KCY2CqhpP",
        "outputId": "044290aa-401f-423f-a3a1-660907030960"
      },
      "source": [
        "model = SVC(kernel='sigmoid')\n",
        "model.fit(X_train, y_train)\n",
        "\n",
        "support_vector_indices = model.support_\n",
        "print(support_vector_indices)\n",
        "\n",
        "support_vectors_per_class = model.n_support_\n",
        "print(support_vectors_per_class)\n",
        "\n",
        "# Get support vectors themselves\n",
        "support_vectors = model.support_vectors_\n",
        "\n",
        "# Visualize support vectors\n",
        "plt.scatter(X_train[:,0], X_train[:,1])\n",
        "plt.scatter(support_vectors[:,0], support_vectors[:,1], color='red')\n",
        "plt.title('support vectors')\n",
        "plt.xlabel('X')\n",
        "plt.ylabel('y')\n",
        "plt.show()\n",
        "\n",
        "results_training = model.predict(X_train)\n",
        "results_test = model.predict(X_test)\n",
        "\n",
        "print(\"SVC sigmoid ACC TRAINING:\",accuracy_score(y_train, results_training))\n",
        "print(\"SVC sigmoid ACC TEST:\",accuracy_score(y_test, results_test))"
      ],
      "execution_count": 129,
      "outputs": [
        {
          "output_type": "stream",
          "text": [
            "[ 1  3  4  7  8 15 16 18 19 24 25 26 27 30 31 32 33 34 36 37 39 40 41 44\n",
            " 47 48 49 53 55 57 61 62 64 69  0  2  5  6  9 10 11 13 14 17 20 21 23 28\n",
            " 29 35 38 42 43 45 46 50 51 52 54 56 58 59 60 63 65 66 67 68]\n",
            "[34 34]\n"
          ],
          "name": "stdout"
        },
        {
          "output_type": "display_data",
          "data": {
            "image/png": "[encoded data removed]",
            "text/plain": [
              "<Figure size 432x288 with 1 Axes>"
            ]
          },
          "metadata": {
            "tags": [],
            "needs_background": "light"
          }
        },
        {
          "output_type": "stream",
          "text": [
            "SVC sigmoid ACC TRAINING: 0.7\n",
            "SVC sigmoid ACC TEST: 0.6333333333333333\n"
          ],
          "name": "stdout"
        }
      ]
    },
    {
      "cell_type": "markdown",
      "metadata": {
        "id": "FZKT9RpaQSHF"
      },
      "source": [
        "# Árvores de decisão: classificação de dígitos"
      ]
    },
    {
      "cell_type": "markdown",
      "metadata": {
        "id": "A9F-Np1TSBkQ"
      },
      "source": [
        "Carregamento dos dados"
      ]
    },
    {
      "cell_type": "code",
      "metadata": {
        "id": "0EzUpTMCSAfg"
      },
      "source": [
        "from sklearn.datasets import load_digits\n",
        "digits = load_digits()\n",
        "X = digits.data\n",
        "y = digits.target"
      ],
      "execution_count": 130,
      "outputs": []
    },
    {
      "cell_type": "code",
      "metadata": {
        "id": "tAE0O_XWSQa-",
        "colab": {
          "base_uri": "https://localhost:8080/"
        },
        "outputId": "a6fd0ac8-11b4-463a-db9d-bc456dcb2a3c"
      },
      "source": [
        "# TODO: façam a separação dos dados utilizando um coonjunto holdout 70/30\n",
        "X_train, X_test, y_train, y_test = train_test_split(X, y,test_size = 0.3,random_state=1)\n",
        "\n",
        "\n",
        "\n",
        "# TODO: treinem o modelo\n",
        "from sklearn.tree import DecisionTreeClassifier\n",
        "\n",
        "dtc = DecisionTreeClassifier(random_state=0)\n",
        "dtc.fit(X_train,y_train)\n",
        "\n",
        "# TODO: avaliem o resultado\n",
        "dtc.predict(X_test)\n",
        "\n",
        "results_training = dtc.predict(X_train)\n",
        "results_test = dtc.predict(X_test)\n",
        "\n",
        "print(\"DTC ACC TRAINING:\",accuracy_score(y_train, results_training))\n",
        "print(\"DTC ACC TEST:\",accuracy_score(y_test, results_test))"
      ],
      "execution_count": 131,
      "outputs": [
        {
          "output_type": "stream",
          "text": [
            "DTC ACC TRAINING: 1.0\n",
            "DTC ACC TEST: 0.8592592592592593\n"
          ],
          "name": "stdout"
        }
      ]
    },
    {
      "cell_type": "markdown",
      "metadata": {
        "id": "TYvuKtX3h9hE"
      },
      "source": [
        "# Ensemble"
      ]
    },
    {
      "cell_type": "markdown",
      "metadata": {
        "id": "fpt0dxQRiAa3"
      },
      "source": [
        "Escolha pelo menos 2 modelos discutidos para fazer um ensemble utilizando o mesmo conjunto de dados do exemplo anterior"
      ]
    },
    {
      "cell_type": "code",
      "metadata": {
        "id": "S2Yqgcu_iA7p"
      },
      "source": [
        "# TODO:"
      ],
      "execution_count": 132,
      "outputs": []
    }
  ]
}